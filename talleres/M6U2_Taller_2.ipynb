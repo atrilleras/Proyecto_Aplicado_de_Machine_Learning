{
  "cells": [
    {
      "cell_type": "markdown",
      "metadata": {
        "id": "mLlSr7BaKSLF"
      },
      "source": [
        "<img src = \"https://drive.google.com/uc?export=view&id=10mKgunAZowpvpttdYdjoDeCM2RSMGXer\" alt = \"Encabezado MLDS\" width = \"100%\">  </img>"
      ]
    },
    {
      "cell_type": "markdown",
      "metadata": {
        "id": "fEewD2N0RkMc"
      },
      "source": [
        "# **Taller 2: Herramientas y utilidades**\n",
        "---\n",
        "\n",
        "En este notebook evaluaremos los conceptos aprendidos sobre herramientas y utilidades.\n",
        "\n",
        "Ejecute las siguientes celdas para conectarse a UNCode:"
      ]
    },
    {
      "cell_type": "code",
      "execution_count": 1,
      "metadata": {
        "id": "AMgHXLh7Zg1l",
        "outputId": "22f00ae3-849f-460a-aee9-4d8d45340c56",
        "colab": {
          "base_uri": "https://localhost:8080/"
        }
      },
      "outputs": [
        {
          "output_type": "stream",
          "name": "stdout",
          "text": [
            "Collecting dvc\n",
            "  Downloading dvc-3.60.1-py3-none-any.whl.metadata (17 kB)\n",
            "Collecting dvc-gdrive\n",
            "  Downloading dvc_gdrive-3.0.1-py3-none-any.whl.metadata (2.1 kB)\n",
            "Requirement already satisfied: attrs>=22.2.0 in /usr/local/lib/python3.11/dist-packages (from dvc) (25.3.0)\n",
            "Collecting celery (from dvc)\n",
            "  Downloading celery-5.5.3-py3-none-any.whl.metadata (22 kB)\n",
            "Collecting colorama>=0.3.9 (from dvc)\n",
            "  Downloading colorama-0.4.6-py2.py3-none-any.whl.metadata (17 kB)\n",
            "Collecting configobj>=5.0.9 (from dvc)\n",
            "  Downloading configobj-5.0.9-py2.py3-none-any.whl.metadata (3.2 kB)\n",
            "Requirement already satisfied: distro>=1.3 in /usr/local/lib/python3.11/dist-packages (from dvc) (1.9.0)\n",
            "Collecting dpath<3,>=2.1.0 (from dvc)\n",
            "  Downloading dpath-2.2.0-py3-none-any.whl.metadata (15 kB)\n",
            "Collecting dulwich (from dvc)\n",
            "  Downloading dulwich-0.23.1-cp311-cp311-manylinux_2_28_x86_64.whl.metadata (5.1 kB)\n",
            "Collecting dvc-data<3.17,>=3.16.2 (from dvc)\n",
            "  Downloading dvc_data-3.16.10-py3-none-any.whl.metadata (5.0 kB)\n",
            "Collecting dvc-http>=2.29.0 (from dvc)\n",
            "  Downloading dvc_http-2.32.0-py3-none-any.whl.metadata (1.3 kB)\n",
            "Collecting dvc-objects (from dvc)\n",
            "  Downloading dvc_objects-5.1.1-py3-none-any.whl.metadata (3.8 kB)\n",
            "Collecting dvc-render<2,>=1.0.1 (from dvc)\n",
            "  Downloading dvc_render-1.0.2-py3-none-any.whl.metadata (5.4 kB)\n",
            "Collecting dvc-studio-client<1,>=0.21 (from dvc)\n",
            "  Downloading dvc_studio_client-0.21.0-py3-none-any.whl.metadata (4.3 kB)\n",
            "Collecting dvc-task<1,>=0.3.0 (from dvc)\n",
            "  Downloading dvc_task-0.40.2-py3-none-any.whl.metadata (10.0 kB)\n",
            "Collecting flatten_dict<1,>=0.4.1 (from dvc)\n",
            "  Downloading flatten_dict-0.4.2-py2.py3-none-any.whl.metadata (9.2 kB)\n",
            "Collecting flufl.lock<9,>=8.1.0 (from dvc)\n",
            "  Downloading flufl_lock-8.2.0-py3-none-any.whl.metadata (3.3 kB)\n",
            "Requirement already satisfied: fsspec>=2024.2.0 in /usr/local/lib/python3.11/dist-packages (from dvc) (2025.3.2)\n",
            "Collecting funcy>=1.14 (from dvc)\n",
            "  Downloading funcy-2.0-py2.py3-none-any.whl.metadata (5.9 kB)\n",
            "Collecting grandalf<1,>=0.7 (from dvc)\n",
            "  Downloading grandalf-0.8-py3-none-any.whl.metadata (1.7 kB)\n",
            "Collecting gto<2,>=1.6.0 (from dvc)\n",
            "  Downloading gto-1.7.2-py3-none-any.whl.metadata (4.7 kB)\n",
            "Collecting hydra-core>=1.1 (from dvc)\n",
            "  Downloading hydra_core-1.3.2-py3-none-any.whl.metadata (5.5 kB)\n",
            "Collecting iterative-telemetry>=0.0.7 (from dvc)\n",
            "  Downloading iterative_telemetry-0.0.10-py3-none-any.whl.metadata (4.1 kB)\n",
            "Collecting kombu (from dvc)\n",
            "  Downloading kombu-5.5.4-py3-none-any.whl.metadata (3.5 kB)\n",
            "Requirement already satisfied: networkx>=2.5 in /usr/local/lib/python3.11/dist-packages (from dvc) (3.5)\n",
            "Requirement already satisfied: omegaconf in /usr/local/lib/python3.11/dist-packages (from dvc) (2.3.0)\n",
            "Requirement already satisfied: packaging>=19 in /usr/local/lib/python3.11/dist-packages (from dvc) (24.2)\n",
            "Collecting pathspec>=0.10.3 (from dvc)\n",
            "  Downloading pathspec-0.12.1-py3-none-any.whl.metadata (21 kB)\n",
            "Requirement already satisfied: platformdirs<5,>=3.1.1 in /usr/local/lib/python3.11/dist-packages (from dvc) (4.3.8)\n",
            "Requirement already satisfied: psutil>=5.8 in /usr/local/lib/python3.11/dist-packages (from dvc) (5.9.5)\n",
            "Requirement already satisfied: pydot>=1.2.4 in /usr/local/lib/python3.11/dist-packages (from dvc) (3.0.4)\n",
            "Collecting pygtrie>=2.3.2 (from dvc)\n",
            "  Downloading pygtrie-2.5.0-py3-none-any.whl.metadata (7.5 kB)\n",
            "Requirement already satisfied: pyparsing>=2.4.7 in /usr/local/lib/python3.11/dist-packages (from dvc) (3.2.3)\n",
            "Requirement already satisfied: requests>=2.22 in /usr/local/lib/python3.11/dist-packages (from dvc) (2.32.3)\n",
            "Requirement already satisfied: rich>=12 in /usr/local/lib/python3.11/dist-packages (from dvc) (13.9.4)\n",
            "Collecting ruamel.yaml>=0.17.11 (from dvc)\n",
            "  Downloading ruamel.yaml-0.18.14-py3-none-any.whl.metadata (24 kB)\n",
            "Collecting scmrepo<4,>=3.3.8 (from dvc)\n",
            "  Downloading scmrepo-3.3.11-py3-none-any.whl.metadata (4.8 kB)\n",
            "Collecting shortuuid>=0.5 (from dvc)\n",
            "  Downloading shortuuid-1.0.13-py3-none-any.whl.metadata (5.8 kB)\n",
            "Collecting shtab<2,>=1.3.4 (from dvc)\n",
            "  Downloading shtab-1.7.2-py3-none-any.whl.metadata (7.4 kB)\n",
            "Requirement already satisfied: tabulate>=0.8.7 in /usr/local/lib/python3.11/dist-packages (from dvc) (0.9.0)\n",
            "Requirement already satisfied: tomlkit>=0.11.1 in /usr/local/lib/python3.11/dist-packages (from dvc) (0.13.3)\n",
            "Requirement already satisfied: tqdm<5,>=4.63.1 in /usr/local/lib/python3.11/dist-packages (from dvc) (4.67.1)\n",
            "Collecting voluptuous>=0.11.7 (from dvc)\n",
            "  Downloading voluptuous-0.15.2-py3-none-any.whl.metadata (20 kB)\n",
            "Collecting zc.lockfile>=1.2.1 (from dvc)\n",
            "  Downloading zc.lockfile-3.0.post1-py3-none-any.whl.metadata (6.2 kB)\n",
            "Requirement already satisfied: pydrive2>=1.19.0 in /usr/local/lib/python3.11/dist-packages (from pydrive2[fsspec]>=1.19.0->dvc-gdrive) (1.21.3)\n",
            "Collecting dictdiffer>=0.8.1 (from dvc-data<3.17,>=3.16.2->dvc)\n",
            "  Downloading dictdiffer-0.9.0-py2.py3-none-any.whl.metadata (4.8 kB)\n",
            "Collecting diskcache>=5.2.1 (from dvc-data<3.17,>=3.16.2->dvc)\n",
            "  Downloading diskcache-5.6.3-py3-none-any.whl.metadata (20 kB)\n",
            "Collecting sqltrie<1,>=0.11.0 (from dvc-data<3.17,>=3.16.2->dvc)\n",
            "  Downloading sqltrie-0.11.2-py3-none-any.whl.metadata (3.3 kB)\n",
            "Requirement already satisfied: orjson<4,>=3 in /usr/local/lib/python3.11/dist-packages (from dvc-data<3.17,>=3.16.2->dvc) (3.10.18)\n",
            "Collecting aiohttp-retry>=2.5.0 (from dvc-http>=2.29.0->dvc)\n",
            "  Downloading aiohttp_retry-2.9.1-py3-none-any.whl.metadata (8.8 kB)\n",
            "Collecting billiard<5.0,>=4.2.1 (from celery->dvc)\n",
            "  Downloading billiard-4.2.1-py3-none-any.whl.metadata (4.4 kB)\n",
            "Collecting vine<6.0,>=5.1.0 (from celery->dvc)\n",
            "  Downloading vine-5.1.0-py3-none-any.whl.metadata (2.7 kB)\n",
            "Requirement already satisfied: click<9.0,>=8.1.2 in /usr/local/lib/python3.11/dist-packages (from celery->dvc) (8.2.1)\n",
            "Collecting click-didyoumean>=0.3.0 (from celery->dvc)\n",
            "  Downloading click_didyoumean-0.3.1-py3-none-any.whl.metadata (3.9 kB)\n",
            "Collecting click-repl>=0.2.0 (from celery->dvc)\n",
            "  Downloading click_repl-0.3.0-py3-none-any.whl.metadata (3.6 kB)\n",
            "Collecting click-plugins>=1.1.1 (from celery->dvc)\n",
            "  Downloading click_plugins-1.1.1.2-py2.py3-none-any.whl.metadata (6.5 kB)\n",
            "Requirement already satisfied: python-dateutil>=2.8.2 in /usr/local/lib/python3.11/dist-packages (from celery->dvc) (2.9.0.post0)\n",
            "Requirement already satisfied: six<2.0,>=1.12 in /usr/local/lib/python3.11/dist-packages (from flatten_dict<1,>=0.4.1->dvc) (1.17.0)\n",
            "Requirement already satisfied: atpublic in /usr/local/lib/python3.11/dist-packages (from flufl.lock<9,>=8.1.0->dvc) (5.1)\n",
            "Requirement already satisfied: entrypoints in /usr/local/lib/python3.11/dist-packages (from gto<2,>=1.6.0->dvc) (0.4)\n",
            "Requirement already satisfied: pydantic!=2.0.0,<3,>=1.9.0 in /usr/local/lib/python3.11/dist-packages (from gto<2,>=1.6.0->dvc) (2.11.7)\n",
            "Collecting semver>=2.13.0 (from gto<2,>=1.6.0->dvc)\n",
            "  Downloading semver-3.0.4-py3-none-any.whl.metadata (6.8 kB)\n",
            "Requirement already satisfied: typer>=0.4.1 in /usr/local/lib/python3.11/dist-packages (from gto<2,>=1.6.0->dvc) (0.16.0)\n",
            "Requirement already satisfied: antlr4-python3-runtime==4.9.* in /usr/local/lib/python3.11/dist-packages (from hydra-core>=1.1->dvc) (4.9.3)\n",
            "Collecting appdirs (from iterative-telemetry>=0.0.7->dvc)\n",
            "  Downloading appdirs-1.4.4-py2.py3-none-any.whl.metadata (9.0 kB)\n",
            "Requirement already satisfied: filelock in /usr/local/lib/python3.11/dist-packages (from iterative-telemetry>=0.0.7->dvc) (3.18.0)\n",
            "Collecting amqp<6.0.0,>=5.1.1 (from kombu->dvc)\n",
            "  Downloading amqp-5.3.1-py3-none-any.whl.metadata (8.9 kB)\n",
            "Requirement already satisfied: tzdata>=2025.2 in /usr/local/lib/python3.11/dist-packages (from kombu->dvc) (2025.2)\n",
            "Requirement already satisfied: PyYAML>=5.1.0 in /usr/local/lib/python3.11/dist-packages (from omegaconf->dvc) (6.0.2)\n",
            "Requirement already satisfied: google-api-python-client>=1.12.5 in /usr/local/lib/python3.11/dist-packages (from pydrive2>=1.19.0->pydrive2[fsspec]>=1.19.0->dvc-gdrive) (2.173.0)\n",
            "Requirement already satisfied: oauth2client>=4.0.0 in /usr/local/lib/python3.11/dist-packages (from pydrive2>=1.19.0->pydrive2[fsspec]>=1.19.0->dvc-gdrive) (4.1.3)\n",
            "Requirement already satisfied: cryptography<44 in /usr/local/lib/python3.11/dist-packages (from pydrive2>=1.19.0->pydrive2[fsspec]>=1.19.0->dvc-gdrive) (43.0.3)\n",
            "Requirement already satisfied: pyOpenSSL<=24.2.1,>=19.1.0 in /usr/local/lib/python3.11/dist-packages (from pydrive2>=1.19.0->pydrive2[fsspec]>=1.19.0->dvc-gdrive) (24.2.1)\n",
            "Requirement already satisfied: charset-normalizer<4,>=2 in /usr/local/lib/python3.11/dist-packages (from requests>=2.22->dvc) (3.4.2)\n",
            "Requirement already satisfied: idna<4,>=2.5 in /usr/local/lib/python3.11/dist-packages (from requests>=2.22->dvc) (3.10)\n",
            "Requirement already satisfied: urllib3<3,>=1.21.1 in /usr/local/lib/python3.11/dist-packages (from requests>=2.22->dvc) (2.4.0)\n",
            "Requirement already satisfied: certifi>=2017.4.17 in /usr/local/lib/python3.11/dist-packages (from requests>=2.22->dvc) (2025.6.15)\n",
            "Requirement already satisfied: markdown-it-py>=2.2.0 in /usr/local/lib/python3.11/dist-packages (from rich>=12->dvc) (3.0.0)\n",
            "Requirement already satisfied: pygments<3.0.0,>=2.13.0 in /usr/local/lib/python3.11/dist-packages (from rich>=12->dvc) (2.19.2)\n",
            "Collecting ruamel.yaml.clib>=0.2.7 (from ruamel.yaml>=0.17.11->dvc)\n",
            "  Downloading ruamel.yaml.clib-0.2.12-cp311-cp311-manylinux_2_17_x86_64.manylinux2014_x86_64.whl.metadata (2.7 kB)\n",
            "Requirement already satisfied: gitpython>3 in /usr/local/lib/python3.11/dist-packages (from scmrepo<4,>=3.3.8->dvc) (3.1.44)\n",
            "Requirement already satisfied: pygit2>=1.14.0 in /usr/local/lib/python3.11/dist-packages (from scmrepo<4,>=3.3.8->dvc) (1.18.0)\n",
            "Collecting asyncssh<3,>=2.13.1 (from scmrepo<4,>=3.3.8->dvc)\n",
            "  Downloading asyncssh-2.21.0-py3-none-any.whl.metadata (9.9 kB)\n",
            "Requirement already satisfied: setuptools in /usr/local/lib/python3.11/dist-packages (from zc.lockfile>=1.2.1->dvc) (75.2.0)\n",
            "Requirement already satisfied: aiohttp in /usr/local/lib/python3.11/dist-packages (from aiohttp-retry>=2.5.0->dvc-http>=2.29.0->dvc) (3.11.15)\n",
            "Requirement already satisfied: typing_extensions>=4.0.0 in /usr/local/lib/python3.11/dist-packages (from asyncssh<3,>=2.13.1->scmrepo<4,>=3.3.8->dvc) (4.14.0)\n",
            "Requirement already satisfied: prompt-toolkit>=3.0.36 in /usr/local/lib/python3.11/dist-packages (from click-repl>=0.2.0->celery->dvc) (3.0.51)\n",
            "Requirement already satisfied: cffi>=1.12 in /usr/local/lib/python3.11/dist-packages (from cryptography<44->pydrive2>=1.19.0->pydrive2[fsspec]>=1.19.0->dvc-gdrive) (1.17.1)\n",
            "Requirement already satisfied: gitdb<5,>=4.0.1 in /usr/local/lib/python3.11/dist-packages (from gitpython>3->scmrepo<4,>=3.3.8->dvc) (4.0.12)\n",
            "Requirement already satisfied: httplib2<1.0.0,>=0.19.0 in /usr/local/lib/python3.11/dist-packages (from google-api-python-client>=1.12.5->pydrive2>=1.19.0->pydrive2[fsspec]>=1.19.0->dvc-gdrive) (0.22.0)\n",
            "Requirement already satisfied: google-auth!=2.24.0,!=2.25.0,<3.0.0,>=1.32.0 in /usr/local/lib/python3.11/dist-packages (from google-api-python-client>=1.12.5->pydrive2>=1.19.0->pydrive2[fsspec]>=1.19.0->dvc-gdrive) (2.38.0)\n",
            "Requirement already satisfied: google-auth-httplib2<1.0.0,>=0.2.0 in /usr/local/lib/python3.11/dist-packages (from google-api-python-client>=1.12.5->pydrive2>=1.19.0->pydrive2[fsspec]>=1.19.0->dvc-gdrive) (0.2.0)\n",
            "Requirement already satisfied: google-api-core!=2.0.*,!=2.1.*,!=2.2.*,!=2.3.0,<3.0.0,>=1.31.5 in /usr/local/lib/python3.11/dist-packages (from google-api-python-client>=1.12.5->pydrive2>=1.19.0->pydrive2[fsspec]>=1.19.0->dvc-gdrive) (2.25.1)\n",
            "Requirement already satisfied: uritemplate<5,>=3.0.1 in /usr/local/lib/python3.11/dist-packages (from google-api-python-client>=1.12.5->pydrive2>=1.19.0->pydrive2[fsspec]>=1.19.0->dvc-gdrive) (4.2.0)\n",
            "Requirement already satisfied: mdurl~=0.1 in /usr/local/lib/python3.11/dist-packages (from markdown-it-py>=2.2.0->rich>=12->dvc) (0.1.2)\n",
            "Requirement already satisfied: pyasn1>=0.1.7 in /usr/local/lib/python3.11/dist-packages (from oauth2client>=4.0.0->pydrive2>=1.19.0->pydrive2[fsspec]>=1.19.0->dvc-gdrive) (0.6.1)\n",
            "Requirement already satisfied: pyasn1-modules>=0.0.5 in /usr/local/lib/python3.11/dist-packages (from oauth2client>=4.0.0->pydrive2>=1.19.0->pydrive2[fsspec]>=1.19.0->dvc-gdrive) (0.4.2)\n",
            "Requirement already satisfied: rsa>=3.1.4 in /usr/local/lib/python3.11/dist-packages (from oauth2client>=4.0.0->pydrive2>=1.19.0->pydrive2[fsspec]>=1.19.0->dvc-gdrive) (4.9.1)\n",
            "Requirement already satisfied: annotated-types>=0.6.0 in /usr/local/lib/python3.11/dist-packages (from pydantic!=2.0.0,<3,>=1.9.0->gto<2,>=1.6.0->dvc) (0.7.0)\n",
            "Requirement already satisfied: pydantic-core==2.33.2 in /usr/local/lib/python3.11/dist-packages (from pydantic!=2.0.0,<3,>=1.9.0->gto<2,>=1.6.0->dvc) (2.33.2)\n",
            "Requirement already satisfied: typing-inspection>=0.4.0 in /usr/local/lib/python3.11/dist-packages (from pydantic!=2.0.0,<3,>=1.9.0->gto<2,>=1.6.0->dvc) (0.4.1)\n",
            "Requirement already satisfied: shellingham>=1.3.0 in /usr/local/lib/python3.11/dist-packages (from typer>=0.4.1->gto<2,>=1.6.0->dvc) (1.5.4)\n",
            "Requirement already satisfied: aiohappyeyeballs>=2.3.0 in /usr/local/lib/python3.11/dist-packages (from aiohttp->aiohttp-retry>=2.5.0->dvc-http>=2.29.0->dvc) (2.6.1)\n",
            "Requirement already satisfied: aiosignal>=1.1.2 in /usr/local/lib/python3.11/dist-packages (from aiohttp->aiohttp-retry>=2.5.0->dvc-http>=2.29.0->dvc) (1.3.2)\n",
            "Requirement already satisfied: frozenlist>=1.1.1 in /usr/local/lib/python3.11/dist-packages (from aiohttp->aiohttp-retry>=2.5.0->dvc-http>=2.29.0->dvc) (1.7.0)\n",
            "Requirement already satisfied: multidict<7.0,>=4.5 in /usr/local/lib/python3.11/dist-packages (from aiohttp->aiohttp-retry>=2.5.0->dvc-http>=2.29.0->dvc) (6.4.4)\n",
            "Requirement already satisfied: propcache>=0.2.0 in /usr/local/lib/python3.11/dist-packages (from aiohttp->aiohttp-retry>=2.5.0->dvc-http>=2.29.0->dvc) (0.3.2)\n",
            "Requirement already satisfied: yarl<2.0,>=1.17.0 in /usr/local/lib/python3.11/dist-packages (from aiohttp->aiohttp-retry>=2.5.0->dvc-http>=2.29.0->dvc) (1.20.1)\n",
            "Requirement already satisfied: pycparser in /usr/local/lib/python3.11/dist-packages (from cffi>=1.12->cryptography<44->pydrive2>=1.19.0->pydrive2[fsspec]>=1.19.0->dvc-gdrive) (2.22)\n",
            "Requirement already satisfied: smmap<6,>=3.0.1 in /usr/local/lib/python3.11/dist-packages (from gitdb<5,>=4.0.1->gitpython>3->scmrepo<4,>=3.3.8->dvc) (5.0.2)\n",
            "Requirement already satisfied: googleapis-common-protos<2.0.0,>=1.56.2 in /usr/local/lib/python3.11/dist-packages (from google-api-core!=2.0.*,!=2.1.*,!=2.2.*,!=2.3.0,<3.0.0,>=1.31.5->google-api-python-client>=1.12.5->pydrive2>=1.19.0->pydrive2[fsspec]>=1.19.0->dvc-gdrive) (1.70.0)\n",
            "Requirement already satisfied: protobuf!=3.20.0,!=3.20.1,!=4.21.0,!=4.21.1,!=4.21.2,!=4.21.3,!=4.21.4,!=4.21.5,<7.0.0,>=3.19.5 in /usr/local/lib/python3.11/dist-packages (from google-api-core!=2.0.*,!=2.1.*,!=2.2.*,!=2.3.0,<3.0.0,>=1.31.5->google-api-python-client>=1.12.5->pydrive2>=1.19.0->pydrive2[fsspec]>=1.19.0->dvc-gdrive) (5.29.5)\n",
            "Requirement already satisfied: proto-plus<2.0.0,>=1.22.3 in /usr/local/lib/python3.11/dist-packages (from google-api-core!=2.0.*,!=2.1.*,!=2.2.*,!=2.3.0,<3.0.0,>=1.31.5->google-api-python-client>=1.12.5->pydrive2>=1.19.0->pydrive2[fsspec]>=1.19.0->dvc-gdrive) (1.26.1)\n",
            "Requirement already satisfied: cachetools<6.0,>=2.0.0 in /usr/local/lib/python3.11/dist-packages (from google-auth!=2.24.0,!=2.25.0,<3.0.0,>=1.32.0->google-api-python-client>=1.12.5->pydrive2>=1.19.0->pydrive2[fsspec]>=1.19.0->dvc-gdrive) (5.5.2)\n",
            "Requirement already satisfied: wcwidth in /usr/local/lib/python3.11/dist-packages (from prompt-toolkit>=3.0.36->click-repl>=0.2.0->celery->dvc) (0.2.13)\n",
            "Downloading dvc-3.60.1-py3-none-any.whl (458 kB)\n",
            "\u001b[2K   \u001b[90m━━━━━━━━━━━━━━━━━━━━━━━━━━━━━━━━━━━━━━━━\u001b[0m \u001b[32m458.5/458.5 kB\u001b[0m \u001b[31m10.8 MB/s\u001b[0m eta \u001b[36m0:00:00\u001b[0m\n",
            "\u001b[?25hDownloading dvc_gdrive-3.0.1-py3-none-any.whl (11 kB)\n",
            "Downloading colorama-0.4.6-py2.py3-none-any.whl (25 kB)\n",
            "Downloading configobj-5.0.9-py2.py3-none-any.whl (35 kB)\n",
            "Downloading dpath-2.2.0-py3-none-any.whl (17 kB)\n",
            "Downloading dvc_data-3.16.10-py3-none-any.whl (77 kB)\n",
            "\u001b[2K   \u001b[90m━━━━━━━━━━━━━━━━━━━━━━━━━━━━━━━━━━━━━━━━\u001b[0m \u001b[32m77.3/77.3 kB\u001b[0m \u001b[31m8.0 MB/s\u001b[0m eta \u001b[36m0:00:00\u001b[0m\n",
            "\u001b[?25hDownloading dvc_http-2.32.0-py3-none-any.whl (12 kB)\n",
            "Downloading dvc_objects-5.1.1-py3-none-any.whl (33 kB)\n",
            "Downloading dvc_render-1.0.2-py3-none-any.whl (22 kB)\n",
            "Downloading dvc_studio_client-0.21.0-py3-none-any.whl (16 kB)\n",
            "Downloading dvc_task-0.40.2-py3-none-any.whl (21 kB)\n",
            "Downloading celery-5.5.3-py3-none-any.whl (438 kB)\n",
            "\u001b[2K   \u001b[90m━━━━━━━━━━━━━━━━━━━━━━━━━━━━━━━━━━━━━━━━\u001b[0m \u001b[32m438.8/438.8 kB\u001b[0m \u001b[31m33.4 MB/s\u001b[0m eta \u001b[36m0:00:00\u001b[0m\n",
            "\u001b[?25hDownloading flatten_dict-0.4.2-py2.py3-none-any.whl (9.7 kB)\n",
            "Downloading flufl_lock-8.2.0-py3-none-any.whl (11 kB)\n",
            "Downloading funcy-2.0-py2.py3-none-any.whl (30 kB)\n",
            "Downloading grandalf-0.8-py3-none-any.whl (41 kB)\n",
            "\u001b[2K   \u001b[90m━━━━━━━━━━━━━━━━━━━━━━━━━━━━━━━━━━━━━━━━\u001b[0m \u001b[32m41.8/41.8 kB\u001b[0m \u001b[31m3.5 MB/s\u001b[0m eta \u001b[36m0:00:00\u001b[0m\n",
            "\u001b[?25hDownloading gto-1.7.2-py3-none-any.whl (45 kB)\n",
            "\u001b[2K   \u001b[90m━━━━━━━━━━━━━━━━━━━━━━━━━━━━━━━━━━━━━━━━\u001b[0m \u001b[32m45.2/45.2 kB\u001b[0m \u001b[31m4.0 MB/s\u001b[0m eta \u001b[36m0:00:00\u001b[0m\n",
            "\u001b[?25hDownloading hydra_core-1.3.2-py3-none-any.whl (154 kB)\n",
            "\u001b[2K   \u001b[90m━━━━━━━━━━━━━━━━━━━━━━━━━━━━━━━━━━━━━━━━\u001b[0m \u001b[32m154.5/154.5 kB\u001b[0m \u001b[31m13.6 MB/s\u001b[0m eta \u001b[36m0:00:00\u001b[0m\n",
            "\u001b[?25hDownloading iterative_telemetry-0.0.10-py3-none-any.whl (10 kB)\n",
            "Downloading kombu-5.5.4-py3-none-any.whl (210 kB)\n",
            "\u001b[2K   \u001b[90m━━━━━━━━━━━━━━━━━━━━━━━━━━━━━━━━━━━━━━━━\u001b[0m \u001b[32m210.0/210.0 kB\u001b[0m \u001b[31m19.8 MB/s\u001b[0m eta \u001b[36m0:00:00\u001b[0m\n",
            "\u001b[?25hDownloading vine-5.1.0-py3-none-any.whl (9.6 kB)\n",
            "Downloading pathspec-0.12.1-py3-none-any.whl (31 kB)\n",
            "Downloading pygtrie-2.5.0-py3-none-any.whl (25 kB)\n",
            "Downloading ruamel.yaml-0.18.14-py3-none-any.whl (118 kB)\n",
            "\u001b[2K   \u001b[90m━━━━━━━━━━━━━━━━━━━━━━━━━━━━━━━━━━━━━━━━\u001b[0m \u001b[32m118.6/118.6 kB\u001b[0m \u001b[31m11.1 MB/s\u001b[0m eta \u001b[36m0:00:00\u001b[0m\n",
            "\u001b[?25hDownloading scmrepo-3.3.11-py3-none-any.whl (73 kB)\n",
            "\u001b[2K   \u001b[90m━━━━━━━━━━━━━━━━━━━━━━━━━━━━━━━━━━━━━━━━\u001b[0m \u001b[32m73.1/73.1 kB\u001b[0m \u001b[31m6.4 MB/s\u001b[0m eta \u001b[36m0:00:00\u001b[0m\n",
            "\u001b[?25hDownloading dulwich-0.23.1-cp311-cp311-manylinux_2_28_x86_64.whl (1.1 MB)\n",
            "\u001b[2K   \u001b[90m━━━━━━━━━━━━━━━━━━━━━━━━━━━━━━━━━━━━━━━━\u001b[0m \u001b[32m1.1/1.1 MB\u001b[0m \u001b[31m44.7 MB/s\u001b[0m eta \u001b[36m0:00:00\u001b[0m\n",
            "\u001b[?25hDownloading shortuuid-1.0.13-py3-none-any.whl (10 kB)\n",
            "Downloading shtab-1.7.2-py3-none-any.whl (14 kB)\n",
            "Downloading voluptuous-0.15.2-py3-none-any.whl (31 kB)\n",
            "Downloading zc.lockfile-3.0.post1-py3-none-any.whl (9.8 kB)\n",
            "Downloading aiohttp_retry-2.9.1-py3-none-any.whl (10.0 kB)\n",
            "Downloading amqp-5.3.1-py3-none-any.whl (50 kB)\n",
            "\u001b[2K   \u001b[90m━━━━━━━━━━━━━━━━━━━━━━━━━━━━━━━━━━━━━━━━\u001b[0m \u001b[32m50.9/50.9 kB\u001b[0m \u001b[31m4.7 MB/s\u001b[0m eta \u001b[36m0:00:00\u001b[0m\n",
            "\u001b[?25hDownloading appdirs-1.4.4-py2.py3-none-any.whl (9.6 kB)\n",
            "Downloading asyncssh-2.21.0-py3-none-any.whl (374 kB)\n",
            "\u001b[2K   \u001b[90m━━━━━━━━━━━━━━━━━━━━━━━━━━━━━━━━━━━━━━━━\u001b[0m \u001b[32m374.9/374.9 kB\u001b[0m \u001b[31m28.6 MB/s\u001b[0m eta \u001b[36m0:00:00\u001b[0m\n",
            "\u001b[?25hDownloading billiard-4.2.1-py3-none-any.whl (86 kB)\n",
            "\u001b[2K   \u001b[90m━━━━━━━━━━━━━━━━━━━━━━━━━━━━━━━━━━━━━━━━\u001b[0m \u001b[32m86.8/86.8 kB\u001b[0m \u001b[31m8.0 MB/s\u001b[0m eta \u001b[36m0:00:00\u001b[0m\n",
            "\u001b[?25hDownloading click_didyoumean-0.3.1-py3-none-any.whl (3.6 kB)\n",
            "Downloading click_plugins-1.1.1.2-py2.py3-none-any.whl (11 kB)\n",
            "Downloading click_repl-0.3.0-py3-none-any.whl (10 kB)\n",
            "Downloading dictdiffer-0.9.0-py2.py3-none-any.whl (16 kB)\n",
            "Downloading diskcache-5.6.3-py3-none-any.whl (45 kB)\n",
            "\u001b[2K   \u001b[90m━━━━━━━━━━━━━━━━━━━━━━━━━━━━━━━━━━━━━━━━\u001b[0m \u001b[32m45.5/45.5 kB\u001b[0m \u001b[31m3.9 MB/s\u001b[0m eta \u001b[36m0:00:00\u001b[0m\n",
            "\u001b[?25hDownloading ruamel.yaml.clib-0.2.12-cp311-cp311-manylinux_2_17_x86_64.manylinux2014_x86_64.whl (739 kB)\n",
            "\u001b[2K   \u001b[90m━━━━━━━━━━━━━━━━━━━━━━━━━━━━━━━━━━━━━━━━\u001b[0m \u001b[32m739.1/739.1 kB\u001b[0m \u001b[31m48.3 MB/s\u001b[0m eta \u001b[36m0:00:00\u001b[0m\n",
            "\u001b[?25hDownloading semver-3.0.4-py3-none-any.whl (17 kB)\n",
            "Downloading sqltrie-0.11.2-py3-none-any.whl (17 kB)\n",
            "Installing collected packages: pygtrie, funcy, dictdiffer, appdirs, zc.lockfile, voluptuous, vine, sqltrie, shtab, shortuuid, semver, ruamel.yaml.clib, pathspec, grandalf, flufl.lock, flatten_dict, dvc-render, dvc-objects, dulwich, dpath, diskcache, configobj, colorama, click-plugins, click-didyoumean, billiard, ruamel.yaml, iterative-telemetry, hydra-core, dvc-studio-client, dvc-data, click-repl, amqp, kombu, asyncssh, aiohttp-retry, scmrepo, dvc-http, celery, gto, dvc-task, dvc, dvc-gdrive\n",
            "Successfully installed aiohttp-retry-2.9.1 amqp-5.3.1 appdirs-1.4.4 asyncssh-2.21.0 billiard-4.2.1 celery-5.5.3 click-didyoumean-0.3.1 click-plugins-1.1.1.2 click-repl-0.3.0 colorama-0.4.6 configobj-5.0.9 dictdiffer-0.9.0 diskcache-5.6.3 dpath-2.2.0 dulwich-0.23.1 dvc-3.60.1 dvc-data-3.16.10 dvc-gdrive-3.0.1 dvc-http-2.32.0 dvc-objects-5.1.1 dvc-render-1.0.2 dvc-studio-client-0.21.0 dvc-task-0.40.2 flatten_dict-0.4.2 flufl.lock-8.2.0 funcy-2.0 grandalf-0.8 gto-1.7.2 hydra-core-1.3.2 iterative-telemetry-0.0.10 kombu-5.5.4 pathspec-0.12.1 pygtrie-2.5.0 ruamel.yaml-0.18.14 ruamel.yaml.clib-0.2.12 scmrepo-3.3.11 semver-3.0.4 shortuuid-1.0.13 shtab-1.7.2 sqltrie-0.11.2 vine-5.1.0 voluptuous-0.15.2 zc.lockfile-3.0.post1\n",
            "Collecting mlflow==2.17.1\n",
            "  Downloading mlflow-2.17.1-py3-none-any.whl.metadata (29 kB)\n",
            "Collecting mlflow-skinny==2.17.1 (from mlflow==2.17.1)\n",
            "  Downloading mlflow_skinny-2.17.1-py3-none-any.whl.metadata (30 kB)\n",
            "Requirement already satisfied: Flask<4 in /usr/local/lib/python3.11/dist-packages (from mlflow==2.17.1) (3.1.1)\n",
            "Collecting alembic!=1.10.0,<2 (from mlflow==2.17.1)\n",
            "  Downloading alembic-1.16.2-py3-none-any.whl.metadata (7.3 kB)\n",
            "Collecting docker<8,>=4.0.0 (from mlflow==2.17.1)\n",
            "  Downloading docker-7.1.0-py3-none-any.whl.metadata (3.8 kB)\n",
            "Collecting graphene<4 (from mlflow==2.17.1)\n",
            "  Downloading graphene-3.4.3-py2.py3-none-any.whl.metadata (6.9 kB)\n",
            "Requirement already satisfied: markdown<4,>=3.3 in /usr/local/lib/python3.11/dist-packages (from mlflow==2.17.1) (3.8.2)\n",
            "Requirement already satisfied: matplotlib<4 in /usr/local/lib/python3.11/dist-packages (from mlflow==2.17.1) (3.10.0)\n",
            "Requirement already satisfied: numpy<3 in /usr/local/lib/python3.11/dist-packages (from mlflow==2.17.1) (2.0.2)\n",
            "Requirement already satisfied: pandas<3 in /usr/local/lib/python3.11/dist-packages (from mlflow==2.17.1) (2.2.2)\n",
            "Collecting pyarrow<18,>=4.0.0 (from mlflow==2.17.1)\n",
            "  Downloading pyarrow-17.0.0-cp311-cp311-manylinux_2_28_x86_64.whl.metadata (3.3 kB)\n",
            "Requirement already satisfied: scikit-learn<2 in /usr/local/lib/python3.11/dist-packages (from mlflow==2.17.1) (1.6.1)\n",
            "Requirement already satisfied: scipy<2 in /usr/local/lib/python3.11/dist-packages (from mlflow==2.17.1) (1.15.3)\n",
            "Requirement already satisfied: sqlalchemy<3,>=1.4.0 in /usr/local/lib/python3.11/dist-packages (from mlflow==2.17.1) (2.0.41)\n",
            "Requirement already satisfied: Jinja2<4,>=2.11 in /usr/local/lib/python3.11/dist-packages (from mlflow==2.17.1) (3.1.6)\n",
            "Collecting gunicorn<24 (from mlflow==2.17.1)\n",
            "  Downloading gunicorn-23.0.0-py3-none-any.whl.metadata (4.4 kB)\n",
            "Requirement already satisfied: cachetools<6,>=5.0.0 in /usr/local/lib/python3.11/dist-packages (from mlflow-skinny==2.17.1->mlflow==2.17.1) (5.5.2)\n",
            "Requirement already satisfied: click<9,>=7.0 in /usr/local/lib/python3.11/dist-packages (from mlflow-skinny==2.17.1->mlflow==2.17.1) (8.2.1)\n",
            "Requirement already satisfied: cloudpickle<4 in /usr/local/lib/python3.11/dist-packages (from mlflow-skinny==2.17.1->mlflow==2.17.1) (3.1.1)\n",
            "Collecting databricks-sdk<1,>=0.20.0 (from mlflow-skinny==2.17.1->mlflow==2.17.1)\n",
            "  Downloading databricks_sdk-0.57.0-py3-none-any.whl.metadata (39 kB)\n",
            "Requirement already satisfied: gitpython<4,>=3.1.9 in /usr/local/lib/python3.11/dist-packages (from mlflow-skinny==2.17.1->mlflow==2.17.1) (3.1.44)\n",
            "Requirement already satisfied: importlib-metadata!=4.7.0,<9,>=3.7.0 in /usr/local/lib/python3.11/dist-packages (from mlflow-skinny==2.17.1->mlflow==2.17.1) (8.7.0)\n",
            "Collecting opentelemetry-api<3,>=1.9.0 (from mlflow-skinny==2.17.1->mlflow==2.17.1)\n",
            "  Downloading opentelemetry_api-1.34.1-py3-none-any.whl.metadata (1.5 kB)\n",
            "Collecting opentelemetry-sdk<3,>=1.9.0 (from mlflow-skinny==2.17.1->mlflow==2.17.1)\n",
            "  Downloading opentelemetry_sdk-1.34.1-py3-none-any.whl.metadata (1.6 kB)\n",
            "Requirement already satisfied: packaging<25 in /usr/local/lib/python3.11/dist-packages (from mlflow-skinny==2.17.1->mlflow==2.17.1) (24.2)\n",
            "Requirement already satisfied: protobuf<6,>=3.12.0 in /usr/local/lib/python3.11/dist-packages (from mlflow-skinny==2.17.1->mlflow==2.17.1) (5.29.5)\n",
            "Requirement already satisfied: pyyaml<7,>=5.1 in /usr/local/lib/python3.11/dist-packages (from mlflow-skinny==2.17.1->mlflow==2.17.1) (6.0.2)\n",
            "Requirement already satisfied: requests<3,>=2.17.3 in /usr/local/lib/python3.11/dist-packages (from mlflow-skinny==2.17.1->mlflow==2.17.1) (2.32.3)\n",
            "Requirement already satisfied: sqlparse<1,>=0.4.0 in /usr/local/lib/python3.11/dist-packages (from mlflow-skinny==2.17.1->mlflow==2.17.1) (0.5.3)\n",
            "Requirement already satisfied: Mako in /usr/lib/python3/dist-packages (from alembic!=1.10.0,<2->mlflow==2.17.1) (1.1.3)\n",
            "Requirement already satisfied: typing-extensions>=4.12 in /usr/local/lib/python3.11/dist-packages (from alembic!=1.10.0,<2->mlflow==2.17.1) (4.14.0)\n",
            "Requirement already satisfied: urllib3>=1.26.0 in /usr/local/lib/python3.11/dist-packages (from docker<8,>=4.0.0->mlflow==2.17.1) (2.4.0)\n",
            "Requirement already satisfied: blinker>=1.9.0 in /usr/local/lib/python3.11/dist-packages (from Flask<4->mlflow==2.17.1) (1.9.0)\n",
            "Requirement already satisfied: itsdangerous>=2.2.0 in /usr/local/lib/python3.11/dist-packages (from Flask<4->mlflow==2.17.1) (2.2.0)\n",
            "Requirement already satisfied: markupsafe>=2.1.1 in /usr/local/lib/python3.11/dist-packages (from Flask<4->mlflow==2.17.1) (3.0.2)\n",
            "Requirement already satisfied: werkzeug>=3.1.0 in /usr/local/lib/python3.11/dist-packages (from Flask<4->mlflow==2.17.1) (3.1.3)\n",
            "Collecting graphql-core<3.3,>=3.1 (from graphene<4->mlflow==2.17.1)\n",
            "  Downloading graphql_core-3.2.6-py3-none-any.whl.metadata (11 kB)\n",
            "Collecting graphql-relay<3.3,>=3.1 (from graphene<4->mlflow==2.17.1)\n",
            "  Downloading graphql_relay-3.2.0-py3-none-any.whl.metadata (12 kB)\n",
            "Requirement already satisfied: python-dateutil<3,>=2.7.0 in /usr/local/lib/python3.11/dist-packages (from graphene<4->mlflow==2.17.1) (2.9.0.post0)\n",
            "Requirement already satisfied: contourpy>=1.0.1 in /usr/local/lib/python3.11/dist-packages (from matplotlib<4->mlflow==2.17.1) (1.3.2)\n",
            "Requirement already satisfied: cycler>=0.10 in /usr/local/lib/python3.11/dist-packages (from matplotlib<4->mlflow==2.17.1) (0.12.1)\n",
            "Requirement already satisfied: fonttools>=4.22.0 in /usr/local/lib/python3.11/dist-packages (from matplotlib<4->mlflow==2.17.1) (4.58.4)\n",
            "Requirement already satisfied: kiwisolver>=1.3.1 in /usr/local/lib/python3.11/dist-packages (from matplotlib<4->mlflow==2.17.1) (1.4.8)\n",
            "Requirement already satisfied: pillow>=8 in /usr/local/lib/python3.11/dist-packages (from matplotlib<4->mlflow==2.17.1) (11.2.1)\n",
            "Requirement already satisfied: pyparsing>=2.3.1 in /usr/local/lib/python3.11/dist-packages (from matplotlib<4->mlflow==2.17.1) (3.2.3)\n",
            "Requirement already satisfied: pytz>=2020.1 in /usr/local/lib/python3.11/dist-packages (from pandas<3->mlflow==2.17.1) (2025.2)\n",
            "Requirement already satisfied: tzdata>=2022.7 in /usr/local/lib/python3.11/dist-packages (from pandas<3->mlflow==2.17.1) (2025.2)\n",
            "Requirement already satisfied: joblib>=1.2.0 in /usr/local/lib/python3.11/dist-packages (from scikit-learn<2->mlflow==2.17.1) (1.5.1)\n",
            "Requirement already satisfied: threadpoolctl>=3.1.0 in /usr/local/lib/python3.11/dist-packages (from scikit-learn<2->mlflow==2.17.1) (3.6.0)\n",
            "Requirement already satisfied: greenlet>=1 in /usr/local/lib/python3.11/dist-packages (from sqlalchemy<3,>=1.4.0->mlflow==2.17.1) (3.2.3)\n",
            "Requirement already satisfied: google-auth~=2.0 in /usr/local/lib/python3.11/dist-packages (from databricks-sdk<1,>=0.20.0->mlflow-skinny==2.17.1->mlflow==2.17.1) (2.38.0)\n",
            "Requirement already satisfied: gitdb<5,>=4.0.1 in /usr/local/lib/python3.11/dist-packages (from gitpython<4,>=3.1.9->mlflow-skinny==2.17.1->mlflow==2.17.1) (4.0.12)\n",
            "Requirement already satisfied: zipp>=3.20 in /usr/local/lib/python3.11/dist-packages (from importlib-metadata!=4.7.0,<9,>=3.7.0->mlflow-skinny==2.17.1->mlflow==2.17.1) (3.23.0)\n",
            "Collecting opentelemetry-semantic-conventions==0.55b1 (from opentelemetry-sdk<3,>=1.9.0->mlflow-skinny==2.17.1->mlflow==2.17.1)\n",
            "  Downloading opentelemetry_semantic_conventions-0.55b1-py3-none-any.whl.metadata (2.5 kB)\n",
            "Requirement already satisfied: six>=1.5 in /usr/local/lib/python3.11/dist-packages (from python-dateutil<3,>=2.7.0->graphene<4->mlflow==2.17.1) (1.17.0)\n",
            "Requirement already satisfied: charset-normalizer<4,>=2 in /usr/local/lib/python3.11/dist-packages (from requests<3,>=2.17.3->mlflow-skinny==2.17.1->mlflow==2.17.1) (3.4.2)\n",
            "Requirement already satisfied: idna<4,>=2.5 in /usr/local/lib/python3.11/dist-packages (from requests<3,>=2.17.3->mlflow-skinny==2.17.1->mlflow==2.17.1) (3.10)\n",
            "Requirement already satisfied: certifi>=2017.4.17 in /usr/local/lib/python3.11/dist-packages (from requests<3,>=2.17.3->mlflow-skinny==2.17.1->mlflow==2.17.1) (2025.6.15)\n",
            "Requirement already satisfied: smmap<6,>=3.0.1 in /usr/local/lib/python3.11/dist-packages (from gitdb<5,>=4.0.1->gitpython<4,>=3.1.9->mlflow-skinny==2.17.1->mlflow==2.17.1) (5.0.2)\n",
            "Requirement already satisfied: pyasn1-modules>=0.2.1 in /usr/local/lib/python3.11/dist-packages (from google-auth~=2.0->databricks-sdk<1,>=0.20.0->mlflow-skinny==2.17.1->mlflow==2.17.1) (0.4.2)\n",
            "Requirement already satisfied: rsa<5,>=3.1.4 in /usr/local/lib/python3.11/dist-packages (from google-auth~=2.0->databricks-sdk<1,>=0.20.0->mlflow-skinny==2.17.1->mlflow==2.17.1) (4.9.1)\n",
            "Requirement already satisfied: pyasn1<0.7.0,>=0.6.1 in /usr/local/lib/python3.11/dist-packages (from pyasn1-modules>=0.2.1->google-auth~=2.0->databricks-sdk<1,>=0.20.0->mlflow-skinny==2.17.1->mlflow==2.17.1) (0.6.1)\n",
            "Downloading mlflow-2.17.1-py3-none-any.whl (26.7 MB)\n",
            "\u001b[2K   \u001b[90m━━━━━━━━━━━━━━━━━━━━━━━━━━━━━━━━━━━━━━━━\u001b[0m \u001b[32m26.7/26.7 MB\u001b[0m \u001b[31m71.8 MB/s\u001b[0m eta \u001b[36m0:00:00\u001b[0m\n",
            "\u001b[?25hDownloading mlflow_skinny-2.17.1-py3-none-any.whl (5.7 MB)\n",
            "\u001b[2K   \u001b[90m━━━━━━━━━━━━━━━━━━━━━━━━━━━━━━━━━━━━━━━━\u001b[0m \u001b[32m5.7/5.7 MB\u001b[0m \u001b[31m100.2 MB/s\u001b[0m eta \u001b[36m0:00:00\u001b[0m\n",
            "\u001b[?25hDownloading alembic-1.16.2-py3-none-any.whl (242 kB)\n",
            "\u001b[2K   \u001b[90m━━━━━━━━━━━━━━━━━━━━━━━━━━━━━━━━━━━━━━━━\u001b[0m \u001b[32m242.7/242.7 kB\u001b[0m \u001b[31m19.3 MB/s\u001b[0m eta \u001b[36m0:00:00\u001b[0m\n",
            "\u001b[?25hDownloading docker-7.1.0-py3-none-any.whl (147 kB)\n",
            "\u001b[2K   \u001b[90m━━━━━━━━━━━━━━━━━━━━━━━━━━━━━━━━━━━━━━━━\u001b[0m \u001b[32m147.8/147.8 kB\u001b[0m \u001b[31m12.0 MB/s\u001b[0m eta \u001b[36m0:00:00\u001b[0m\n",
            "\u001b[?25hDownloading graphene-3.4.3-py2.py3-none-any.whl (114 kB)\n",
            "\u001b[2K   \u001b[90m━━━━━━━━━━━━━━━━━━━━━━━━━━━━━━━━━━━━━━━━\u001b[0m \u001b[32m114.9/114.9 kB\u001b[0m \u001b[31m11.1 MB/s\u001b[0m eta \u001b[36m0:00:00\u001b[0m\n",
            "\u001b[?25hDownloading gunicorn-23.0.0-py3-none-any.whl (85 kB)\n",
            "\u001b[2K   \u001b[90m━━━━━━━━━━━━━━━━━━━━━━━━━━━━━━━━━━━━━━━━\u001b[0m \u001b[32m85.0/85.0 kB\u001b[0m \u001b[31m6.8 MB/s\u001b[0m eta \u001b[36m0:00:00\u001b[0m\n",
            "\u001b[?25hDownloading pyarrow-17.0.0-cp311-cp311-manylinux_2_28_x86_64.whl (39.9 MB)\n",
            "\u001b[2K   \u001b[90m━━━━━━━━━━━━━━━━━━━━━━━━━━━━━━━━━━━━━━━━\u001b[0m \u001b[32m39.9/39.9 MB\u001b[0m \u001b[31m15.7 MB/s\u001b[0m eta \u001b[36m0:00:00\u001b[0m\n",
            "\u001b[?25hDownloading databricks_sdk-0.57.0-py3-none-any.whl (733 kB)\n",
            "\u001b[2K   \u001b[90m━━━━━━━━━━━━━━━━━━━━━━━━━━━━━━━━━━━━━━━━\u001b[0m \u001b[32m733.8/733.8 kB\u001b[0m \u001b[31m45.2 MB/s\u001b[0m eta \u001b[36m0:00:00\u001b[0m\n",
            "\u001b[?25hDownloading graphql_core-3.2.6-py3-none-any.whl (203 kB)\n",
            "\u001b[2K   \u001b[90m━━━━━━━━━━━━━━━━━━━━━━━━━━━━━━━━━━━━━━━━\u001b[0m \u001b[32m203.4/203.4 kB\u001b[0m \u001b[31m16.7 MB/s\u001b[0m eta \u001b[36m0:00:00\u001b[0m\n",
            "\u001b[?25hDownloading graphql_relay-3.2.0-py3-none-any.whl (16 kB)\n",
            "Downloading opentelemetry_api-1.34.1-py3-none-any.whl (65 kB)\n",
            "\u001b[2K   \u001b[90m━━━━━━━━━━━━━━━━━━━━━━━━━━━━━━━━━━━━━━━━\u001b[0m \u001b[32m65.8/65.8 kB\u001b[0m \u001b[31m5.7 MB/s\u001b[0m eta \u001b[36m0:00:00\u001b[0m\n",
            "\u001b[?25hDownloading opentelemetry_sdk-1.34.1-py3-none-any.whl (118 kB)\n",
            "\u001b[2K   \u001b[90m━━━━━━━━━━━━━━━━━━━━━━━━━━━━━━━━━━━━━━━━\u001b[0m \u001b[32m118.5/118.5 kB\u001b[0m \u001b[31m10.0 MB/s\u001b[0m eta \u001b[36m0:00:00\u001b[0m\n",
            "\u001b[?25hDownloading opentelemetry_semantic_conventions-0.55b1-py3-none-any.whl (196 kB)\n",
            "\u001b[2K   \u001b[90m━━━━━━━━━━━━━━━━━━━━━━━━━━━━━━━━━━━━━━━━\u001b[0m \u001b[32m196.2/196.2 kB\u001b[0m \u001b[31m16.2 MB/s\u001b[0m eta \u001b[36m0:00:00\u001b[0m\n",
            "\u001b[?25hInstalling collected packages: pyarrow, gunicorn, graphql-core, opentelemetry-api, graphql-relay, docker, alembic, opentelemetry-semantic-conventions, graphene, databricks-sdk, opentelemetry-sdk, mlflow-skinny, mlflow\n",
            "  Attempting uninstall: pyarrow\n",
            "    Found existing installation: pyarrow 18.1.0\n",
            "    Uninstalling pyarrow-18.1.0:\n",
            "      Successfully uninstalled pyarrow-18.1.0\n",
            "Successfully installed alembic-1.16.2 databricks-sdk-0.57.0 docker-7.1.0 graphene-3.4.3 graphql-core-3.2.6 graphql-relay-3.2.0 gunicorn-23.0.0 mlflow-2.17.1 mlflow-skinny-2.17.1 opentelemetry-api-1.34.1 opentelemetry-sdk-1.34.1 opentelemetry-semantic-conventions-0.55b1 pyarrow-17.0.0\n",
            "Reading package lists... Done\n",
            "Building dependency tree... Done\n",
            "Reading state information... Done\n",
            "git is already the newest version (1:2.34.1-1ubuntu1.12).\n",
            "The following NEW packages will be installed:\n",
            "  tree\n",
            "0 upgraded, 1 newly installed, 0 to remove and 35 not upgraded.\n",
            "Need to get 47.9 kB of archives.\n",
            "After this operation, 116 kB of additional disk space will be used.\n",
            "Get:1 http://archive.ubuntu.com/ubuntu jammy/universe amd64 tree amd64 2.0.2-1 [47.9 kB]\n",
            "Fetched 47.9 kB in 1s (85.5 kB/s)\n",
            "Selecting previously unselected package tree.\n",
            "(Reading database ... 126308 files and directories currently installed.)\n",
            "Preparing to unpack .../tree_2.0.2-1_amd64.deb ...\n",
            "Unpacking tree (2.0.2-1) ...\n",
            "Setting up tree (2.0.2-1) ...\n",
            "Processing triggers for man-db (2.10.2-1) ...\n"
          ]
        }
      ],
      "source": [
        "!pip install dvc dvc-gdrive\n",
        "!pip install mlflow==2.17.1\n",
        "!apt install tree git"
      ]
    },
    {
      "cell_type": "markdown",
      "metadata": {
        "id": "S-ocd--frFi7"
      },
      "source": [
        "Ejecute la siguiente celda para instalar algunas librerías y configurar el servidor de `mlflow`."
      ]
    },
    {
      "cell_type": "markdown",
      "metadata": {
        "id": "R6-Jscb8Zyhb"
      },
      "source": [
        "Importamos las librerías necesarias:"
      ]
    },
    {
      "cell_type": "code",
      "execution_count": 2,
      "metadata": {
        "id": "PIB7qeOuVkfh",
        "outputId": "46b5f76b-7793-4038-932a-c2ee584f5837",
        "colab": {
          "base_uri": "https://localhost:8080/"
        }
      },
      "outputs": [
        {
          "output_type": "stream",
          "name": "stdout",
          "text": [
            "Requirement already satisfied: scikit-learn in /usr/local/lib/python3.11/dist-packages (1.6.1)\n",
            "Collecting scikit-learn\n",
            "  Downloading scikit_learn-1.7.0-cp311-cp311-manylinux_2_17_x86_64.manylinux2014_x86_64.whl.metadata (17 kB)\n",
            "Requirement already satisfied: numpy>=1.22.0 in /usr/local/lib/python3.11/dist-packages (from scikit-learn) (2.0.2)\n",
            "Requirement already satisfied: scipy>=1.8.0 in /usr/local/lib/python3.11/dist-packages (from scikit-learn) (1.15.3)\n",
            "Requirement already satisfied: joblib>=1.2.0 in /usr/local/lib/python3.11/dist-packages (from scikit-learn) (1.5.1)\n",
            "Requirement already satisfied: threadpoolctl>=3.1.0 in /usr/local/lib/python3.11/dist-packages (from scikit-learn) (3.6.0)\n",
            "Downloading scikit_learn-1.7.0-cp311-cp311-manylinux_2_17_x86_64.manylinux2014_x86_64.whl (12.9 MB)\n",
            "\u001b[2K   \u001b[90m━━━━━━━━━━━━━━━━━━━━━━━━━━━━━━━━━━━━━━━━\u001b[0m \u001b[32m12.9/12.9 MB\u001b[0m \u001b[31m104.7 MB/s\u001b[0m eta \u001b[36m0:00:00\u001b[0m\n",
            "\u001b[?25hInstalling collected packages: scikit-learn\n",
            "  Attempting uninstall: scikit-learn\n",
            "    Found existing installation: scikit-learn 1.6.1\n",
            "    Uninstalling scikit-learn-1.6.1:\n",
            "      Successfully uninstalled scikit-learn-1.6.1\n",
            "\u001b[31mERROR: pip's dependency resolver does not currently take into account all the packages that are installed. This behaviour is the source of the following dependency conflicts.\n",
            "sklearn-compat 0.1.3 requires scikit-learn<1.7,>=1.2, but you have scikit-learn 1.7.0 which is incompatible.\u001b[0m\u001b[31m\n",
            "\u001b[0mSuccessfully installed scikit-learn-1.7.0\n"
          ]
        }
      ],
      "source": [
        "# Librerías de utilidad para manipulación y visualización de datos.\n",
        "!pip install -U scikit-learn\n",
        "import os\n",
        "import mlflow\n",
        "import pandas as pd\n",
        "import subprocess\n",
        "import matplotlib.pyplot as plt\n",
        "from sklearn.linear_model import LinearRegression\n",
        "from IPython import get_ipython\n",
        "from IPython.display import display\n",
        "\n",
        "# Ignorar warnings.\n",
        "import warnings\n",
        "warnings.filterwarnings('ignore')"
      ]
    },
    {
      "cell_type": "code",
      "execution_count": null,
      "metadata": {
        "id": "jUMP_2CPqwRY"
      },
      "outputs": [],
      "source": [
        "# Versiones de las librerías usadas.\n",
        "import sklearn\n",
        "import dvc\n",
        "!python --version\n",
        "print('MLflow', mlflow.__version__)\n",
        "print('Scikit-learn', sklearn.__version__)\n",
        "print('DVC', dvc.__version__)"
      ]
    },
    {
      "cell_type": "markdown",
      "metadata": {
        "id": "dxNzX3sfq3gZ"
      },
      "source": [
        "Esta actividad se realizó con las siguientes versiones:\n",
        "*  Python 3.10.11\n",
        "*  MLflow 2.1.0\n",
        "*  Scikit-learn 1.2.2\n",
        "*  DVC 2.56.0"
      ]
    },
    {
      "cell_type": "code",
      "execution_count": 3,
      "metadata": {
        "id": "TAqkL4giPflw",
        "outputId": "ce529dd3-0ce5-4664-99e8-e5794bf928ed",
        "colab": {
          "base_uri": "https://localhost:8080/"
        }
      },
      "outputs": [
        {
          "output_type": "stream",
          "name": "stdout",
          "text": [
            "Collecting rlxcrypt\n",
            "  Downloading rlxcrypt-0.0.7-cp311-cp311-manylinux_2_17_x86_64.manylinux2014_x86_64.whl.metadata (1.9 kB)\n",
            "Collecting imphook (from rlxcrypt)\n",
            "  Downloading imphook-1.0.tar.gz (12 kB)\n",
            "  Preparing metadata (setup.py) ... \u001b[?25l\u001b[?25hdone\n",
            "Requirement already satisfied: cython in /usr/local/lib/python3.11/dist-packages (from rlxcrypt) (3.0.12)\n",
            "Collecting pycryptodome (from rlxcrypt)\n",
            "  Downloading pycryptodome-3.23.0-cp37-abi3-manylinux_2_17_x86_64.manylinux2014_x86_64.whl.metadata (3.4 kB)\n",
            "Requirement already satisfied: cryptography in /usr/local/lib/python3.11/dist-packages (from rlxcrypt) (43.0.3)\n",
            "Requirement already satisfied: cffi>=1.12 in /usr/local/lib/python3.11/dist-packages (from cryptography->rlxcrypt) (1.17.1)\n",
            "Requirement already satisfied: pycparser in /usr/local/lib/python3.11/dist-packages (from cffi>=1.12->cryptography->rlxcrypt) (2.22)\n",
            "Downloading rlxcrypt-0.0.7-cp311-cp311-manylinux_2_17_x86_64.manylinux2014_x86_64.whl (350 kB)\n",
            "\u001b[2K   \u001b[90m━━━━━━━━━━━━━━━━━━━━━━━━━━━━━━━━━━━━━━━━\u001b[0m \u001b[32m350.6/350.6 kB\u001b[0m \u001b[31m8.3 MB/s\u001b[0m eta \u001b[36m0:00:00\u001b[0m\n",
            "\u001b[?25hDownloading pycryptodome-3.23.0-cp37-abi3-manylinux_2_17_x86_64.manylinux2014_x86_64.whl (2.3 MB)\n",
            "\u001b[2K   \u001b[90m━━━━━━━━━━━━━━━━━━━━━━━━━━━━━━━━━━━━━━━━\u001b[0m \u001b[32m2.3/2.3 MB\u001b[0m \u001b[31m60.0 MB/s\u001b[0m eta \u001b[36m0:00:00\u001b[0m\n",
            "\u001b[?25hBuilding wheels for collected packages: imphook\n",
            "  Building wheel for imphook (setup.py) ... \u001b[?25l\u001b[?25hdone\n",
            "  Created wheel for imphook: filename=imphook-1.0-py3-none-any.whl size=9421 sha256=000068be83a70426a3c77335cb3407641e448c961ff0db5a21b9246f0de4aa7c\n",
            "  Stored in directory: /root/.cache/pip/wheels/40/5c/0c/7f56cc2280f6e327d71786abc6a97decadb0639ef63c4713ef\n",
            "Successfully built imphook\n",
            "Installing collected packages: imphook, pycryptodome, rlxcrypt\n",
            "Successfully installed imphook-1.0 pycryptodome-3.23.0 rlxcrypt-0.0.7\n"
          ]
        }
      ],
      "source": [
        "!pip install rlxcrypt\n",
        "!wget --no-cache -O session.pye -q https://raw.githubusercontent.com/JuezUN/INGInious/master/external%20libs/session.pye"
      ]
    },
    {
      "cell_type": "code",
      "execution_count": 4,
      "metadata": {
        "id": "CKNgJYjHPhtr",
        "outputId": "052de44c-ea77-4377-d991-8c20b84f9dbe",
        "colab": {
          "base_uri": "https://localhost:8080/",
          "height": 290
        }
      },
      "outputs": [
        {
          "output_type": "display_data",
          "data": {
            "text/plain": [
              "<IPython.core.display.HTML object>"
            ],
            "text/html": [
              "\n",
              "    <div>\n",
              "    <div style=\"display: flex\">\n",
              "        <div style=\"padding: 10px\">\n",
              "          <img\n",
              "            src=\"https://uncode.unal.edu.co/static/images/logo_unc.svg\"\n",
              "            width=\"50px\"\n",
              "            height=\"50px\"\n",
              "          />\n",
              "        </div>\n",
              "      \n",
              "        <div>\n",
              "          <h2>UNCode Notebooks grader API</h2>\n",
              "          <hr />\n",
              "        </div>\n",
              "      </div>\n",
              "      \n",
              "      <div style=\"display: flex\">\n",
              "        <span>Please enter authentication data</span>\n",
              "      </div>\n",
              "    </div>\n",
              "    "
            ]
          },
          "metadata": {}
        },
        {
          "name": "stdout",
          "output_type": "stream",
          "text": [
            "Please enter your UNCode username: atrillerasmar@unal.edu.co\n",
            "Please enter your password: ··········\n"
          ]
        },
        {
          "output_type": "display_data",
          "data": {
            "text/plain": [
              "<IPython.core.display.HTML object>"
            ],
            "text/html": [
              "<h5 style=\"color: green\"><Response [200]></h5>"
            ]
          },
          "metadata": {}
        },
        {
          "output_type": "display_data",
          "data": {
            "text/plain": [
              "<IPython.core.display.HTML object>"
            ],
            "text/html": [
              "<h5 style=\"color: green\">Auth process succeeded</h5>"
            ]
          },
          "metadata": {}
        },
        {
          "output_type": "display_data",
          "data": {
            "text/plain": [
              "<IPython.core.display.HTML object>"
            ],
            "text/html": [
              "<h5>View your courses <a href=\"https://uncode.unal.edu.co/courselist\">at UNCode platform</a></h5>"
            ]
          },
          "metadata": {}
        },
        {
          "output_type": "display_data",
          "data": {
            "text/plain": [
              "<IPython.core.display.HTML object>"
            ],
            "text/html": [
              "<h3>You will sumbit code to course: <span style=\"color: green\">Metodologias agiles para el desarrollo de aplicaciones con Machine Learning | Grupo MLDS-6 | 2025 - 1<span></h3>"
            ]
          },
          "metadata": {}
        },
        {
          "output_type": "display_data",
          "data": {
            "text/plain": [
              "<IPython.core.display.HTML object>"
            ],
            "text/html": [
              "<h3>You will sumbit code to task: <span style=\"color: blue\">Taller 2: Herramientas y utilidades<span></h3>"
            ]
          },
          "metadata": {}
        }
      ],
      "source": [
        "import rlxcrypt\n",
        "import session\n",
        "\n",
        "grader = session.LoginSequence(\"MAPEDDACML-GroupMLDS-6-2025-1@a9100933-1f77-4183-ab61-6b30c31e6a77\")"
      ]
    },
    {
      "cell_type": "markdown",
      "metadata": {
        "id": "arWKQDholpQ9"
      },
      "source": [
        "> **La tarea es incremental, por lo tanto es recomendable resolver los puntos en orden**"
      ]
    },
    {
      "cell_type": "markdown",
      "metadata": {
        "id": "hvlFb8xffeRb"
      },
      "source": [
        "## **1. Inicialización del Repositorio**\n",
        "---\n",
        "\n",
        "En este punto debe inicializar un repositorio de `git`. Ejecute la siguiente celda rellenando la información para identificarse:"
      ]
    },
    {
      "cell_type": "code",
      "execution_count": 5,
      "metadata": {
        "id": "xzUaxzqEfolq"
      },
      "outputs": [],
      "source": [
        "!git config --global user.email \"atrillerasmar@unal.edu.co\"\n",
        "!git config --global user.name \"atrillerasmar\"\n",
        "!git config --global init.defaultBranch master"
      ]
    },
    {
      "cell_type": "markdown",
      "metadata": {
        "id": "2RcieGAQf_H5"
      },
      "source": [
        "Una vez realizado el *login*, usted deberá realizar los siguientes pasos:\n",
        "\n",
        "1. Crear una carpeta llamada `myrepo`.\n",
        "2. Moverse dentro de la carpeta creada.\n",
        "3. Inicializar el repositorio con `git`."
      ]
    },
    {
      "cell_type": "markdown",
      "metadata": {
        "id": "kAsG3vcvgQ29"
      },
      "source": [
        "<details>    \n",
        "<summary>\n",
        "    <font size=\"3\" color=\"darkgreen\"><b>Pista 1</b></font>\n",
        "</summary>\n",
        "\n",
        "* Recuerde que con `mkdir` puede crear carpetas.\n",
        "</details>"
      ]
    },
    {
      "cell_type": "markdown",
      "metadata": {
        "id": "09aaEP4hgaRJ"
      },
      "source": [
        "<details>    \n",
        "<summary>\n",
        "    <font size=\"3\" color=\"darkgreen\"><b>Pista 2</b></font>\n",
        "</summary>\n",
        "\n",
        "* El comando `%cd` es necesario para movimientos dentro de linux.\n",
        "</details>"
      ]
    },
    {
      "cell_type": "markdown",
      "metadata": {
        "id": "04_DZm8RgfZq"
      },
      "source": [
        "<details>    \n",
        "<summary>\n",
        "    <font size=\"3\" color=\"darkgreen\"><b>Pista 3</b></font>\n",
        "</summary>\n",
        "\n",
        "* Recuerde que dentro de un terminal, el comando `git` le permite realizar cualquier operación con un repositorio.\n",
        "</details>"
      ]
    },
    {
      "cell_type": "code",
      "execution_count": 16,
      "metadata": {
        "id": "lthlEDrzhLLM"
      },
      "outputs": [],
      "source": [
        "#TEST_CELL\n",
        "\"\"\"\n",
        "    Descomente esta celda si lo requiere\n",
        "    Este comando borrará el directorio myrepo\n",
        "    si existe en el directorio actual\n",
        "\"\"\"\n",
        "#![ -d myrepo ] && rm -rf myrepo"
      ]
    },
    {
      "cell_type": "code",
      "execution_count": 17,
      "metadata": {
        "id": "qF7_vHRbgQVT"
      },
      "outputs": [],
      "source": [
        "# INGRESE SU CÓDIGO AQUÍ\n",
        "!mkdir 'myrepo'"
      ]
    },
    {
      "cell_type": "code",
      "source": [
        "%cd 'myrepo'"
      ],
      "metadata": {
        "id": "YR7e0RYN6TMM",
        "outputId": "75721ac0-c4e6-4b3f-a603-647ec8c34b1c",
        "colab": {
          "base_uri": "https://localhost:8080/"
        }
      },
      "execution_count": 18,
      "outputs": [
        {
          "output_type": "stream",
          "name": "stdout",
          "text": [
            "/content/myrepo/myrepo/myrepo\n"
          ]
        }
      ]
    },
    {
      "cell_type": "code",
      "source": [
        "!git init"
      ],
      "metadata": {
        "id": "wL9ezHjy6UJq",
        "outputId": "9c5d49cd-963d-4667-bf6d-83dfa074415d",
        "colab": {
          "base_uri": "https://localhost:8080/"
        }
      },
      "execution_count": 21,
      "outputs": [
        {
          "output_type": "stream",
          "name": "stdout",
          "text": [
            "Initialized empty Git repository in /content/myrepo/myrepo/myrepo/.git/\n"
          ]
        }
      ]
    },
    {
      "cell_type": "markdown",
      "metadata": {
        "id": "6aMOyq6Mx9Yf"
      },
      "source": [
        "Use las siguientes celdas para probar su solución:"
      ]
    },
    {
      "cell_type": "code",
      "execution_count": 22,
      "metadata": {
        "id": "r9gqdQbEg6Hv",
        "outputId": "30112da7-5614-4b85-85d7-8a6413419144",
        "colab": {
          "base_uri": "https://localhost:8080/"
        }
      },
      "outputs": [
        {
          "output_type": "stream",
          "name": "stdout",
          "text": [
            "myrepo\n"
          ]
        }
      ],
      "source": [
        "#TEST_CELL\n",
        "!pwd | awk -F '/' '{print $NF}'"
      ]
    },
    {
      "cell_type": "markdown",
      "metadata": {
        "id": "xow0N9yyia9_"
      },
      "source": [
        "**Salida esperada**\n",
        "\n",
        "En este caso debería obtener el nombre del repositorio:\n",
        "\n",
        "```python\n",
        "❱ !pwd | awk -F '/' '{print $NF}'\n",
        "myrepo\n",
        "```"
      ]
    },
    {
      "cell_type": "code",
      "execution_count": 23,
      "metadata": {
        "id": "osxhCa_4ihky",
        "outputId": "10371edc-3e34-43b1-ba1a-22809702b93f",
        "colab": {
          "base_uri": "https://localhost:8080/"
        }
      },
      "outputs": [
        {
          "output_type": "stream",
          "name": "stdout",
          "text": [
            "On branch master\n",
            "\n",
            "No commits yet\n",
            "\n",
            "nothing to commit (create/copy files and use \"git add\" to track)\n"
          ]
        }
      ],
      "source": [
        "#TEST_CELL\n",
        "!git status"
      ]
    },
    {
      "cell_type": "markdown",
      "metadata": {
        "id": "jcs_bLDiiid_"
      },
      "source": [
        "**Salida esperada**\n",
        "\n",
        "En este caso se valida que estemos dentro de un repositorio de `git`.\n",
        "\n",
        "```python\n",
        "❱ !git status\n",
        "On branch main\n",
        "\n",
        "No commits yet\n",
        "\n",
        "nothing to commit (create/copy files and use \"git add\" to track)\n",
        "```"
      ]
    },
    {
      "cell_type": "markdown",
      "metadata": {
        "id": "FN9ExHNKizb4"
      },
      "source": [
        "#### **Evaluar código**"
      ]
    },
    {
      "cell_type": "markdown",
      "metadata": {
        "id": "FfuMIuzchsrv"
      },
      "source": [
        "> **Esta celda debe ser ejecutada obligatoriamente antes de evaluar el ejercicio**"
      ]
    },
    {
      "cell_type": "code",
      "execution_count": 24,
      "metadata": {
        "id": "ygtyPlf8hsKH"
      },
      "outputs": [],
      "source": [
        "result = subprocess.run(['pwd'], stdout=subprocess.PIPE)\n",
        "current_directory = result.stdout.decode('utf-8').strip().split('/')[-1]"
      ]
    },
    {
      "cell_type": "code",
      "execution_count": 25,
      "metadata": {
        "id": "Lkx0OCDUmbEl",
        "outputId": "fa1e3407-052b-4759-a483-4059009ba6f7",
        "colab": {
          "base_uri": "https://localhost:8080/",
          "height": 142
        }
      },
      "outputs": [
        {
          "output_type": "stream",
          "name": "stdout",
          "text": [
            "Test 1_1\n"
          ]
        },
        {
          "output_type": "display_data",
          "data": {
            "text/plain": [
              "<IPython.core.display.HTML object>"
            ],
            "text/html": [
              "<h4>Test Run correctly</h4>"
            ]
          },
          "metadata": {}
        },
        {
          "output_type": "display_data",
          "data": {
            "text/plain": [
              "<IPython.core.display.HTML object>"
            ],
            "text/html": [
              "<h6 style=\"color: green;\">Your test grade: 100</h6>\n",
              "<h6>Feedback: Probando código ejemplo.</h6>"
            ]
          },
          "metadata": {}
        }
      ],
      "source": [
        "grader.run_test(\"Test 1_1\", globals())"
      ]
    },
    {
      "cell_type": "markdown",
      "metadata": {
        "id": "XaRFqDDgtU0n"
      },
      "source": [
        "## **2. Versionamiento de Datos**\n",
        "---\n",
        "En este caso utilizaremos un conjunto de datos que contiene información sobre la edad y la estatura de niños. El conjunto de datos lo encuentra en la siguiente URL:\n",
        "\n",
        "> [https://raw.githubusercontent.com/mindlab-unal/mlds6-datasets/main/u2/children_age.parquet](https://raw.githubusercontent.com/mindlab-unal/mlds6-datasets/main/u2/children_age.parquet)"
      ]
    },
    {
      "cell_type": "markdown",
      "metadata": {
        "id": "oFQG4_-M72Z7"
      },
      "source": [
        "### **2.1. Inicialización de DVC**\n",
        "---\n",
        "\n",
        "En este punto deberá:\n",
        "\n",
        "1. Crear una carpeta con el nombre `data`.\n",
        "2. Inicializar el repositorio de `dvc`."
      ]
    },
    {
      "cell_type": "code",
      "execution_count": null,
      "metadata": {
        "id": "xMdJKhk4qeHT"
      },
      "outputs": [],
      "source": [
        "#TEST_CELL\n",
        "\"\"\"\n",
        "    Descomente esta celda si lo requiere\n",
        "    Este comando borrará el directorio data\n",
        "    si existe en el directorio actual\n",
        "\"\"\"\n",
        "# ![ -d data ] && rm -rf data"
      ]
    },
    {
      "cell_type": "code",
      "execution_count": 26,
      "metadata": {
        "id": "upnuUi9Eq7xX",
        "outputId": "7805ebad-9365-4519-8d94-df80a44b5480",
        "colab": {
          "base_uri": "https://localhost:8080/"
        }
      },
      "outputs": [
        {
          "output_type": "stream",
          "name": "stdout",
          "text": [
            "Reinitialized existing Git repository in /content/myrepo/myrepo/myrepo/.git/\n"
          ]
        }
      ],
      "source": [
        "# INGRESE SU CÓDIGO AQUÍ\n",
        "!git init"
      ]
    },
    {
      "cell_type": "code",
      "source": [
        "!mkdir data"
      ],
      "metadata": {
        "id": "zOlkFRx687Zj"
      },
      "execution_count": 27,
      "outputs": []
    },
    {
      "cell_type": "code",
      "source": [
        "!git status"
      ],
      "metadata": {
        "id": "qJfL7nHw9RZE",
        "outputId": "d065d7ea-a900-4252-ebf2-e7925eaf4015",
        "colab": {
          "base_uri": "https://localhost:8080/"
        }
      },
      "execution_count": 28,
      "outputs": [
        {
          "output_type": "stream",
          "name": "stdout",
          "text": [
            "On branch master\n",
            "\n",
            "No commits yet\n",
            "\n",
            "nothing to commit (create/copy files and use \"git add\" to track)\n"
          ]
        }
      ]
    },
    {
      "cell_type": "code",
      "source": [
        "!dvc init"
      ],
      "metadata": {
        "id": "mJ1pO5jf9mBf",
        "outputId": "f33053b9-d28e-4f3e-e980-059c22464197",
        "colab": {
          "base_uri": "https://localhost:8080/"
        }
      },
      "execution_count": 29,
      "outputs": [
        {
          "output_type": "stream",
          "name": "stdout",
          "text": [
            "Initialized DVC repository.\n",
            "\n",
            "You can now commit the changes to git.\n",
            "\n",
            "\u001b[31m+---------------------------------------------------------------------+\n",
            "\u001b[0m\u001b[31m|\u001b[0m                                                                     \u001b[31m|\u001b[0m\n",
            "\u001b[31m|\u001b[0m        DVC has enabled anonymous aggregate usage analytics.         \u001b[31m|\u001b[0m\n",
            "\u001b[31m|\u001b[0m     Read the analytics documentation (and how to opt-out) here:     \u001b[31m|\u001b[0m\n",
            "\u001b[31m|\u001b[0m             <\u001b[36mhttps://dvc.org/doc/user-guide/analytics\u001b[39m>              \u001b[31m|\u001b[0m\n",
            "\u001b[31m|\u001b[0m                                                                     \u001b[31m|\u001b[0m\n",
            "\u001b[31m+---------------------------------------------------------------------+\n",
            "\u001b[0m\n",
            "\u001b[33mWhat's next?\u001b[39m\n",
            "\u001b[33m------------\u001b[39m\n",
            "- Check out the documentation: <\u001b[36mhttps://dvc.org/doc\u001b[39m>\n",
            "- Get help and share ideas: <\u001b[36mhttps://dvc.org/chat\u001b[39m>\n",
            "- Star us on GitHub: <\u001b[36mhttps://github.com/iterative/dvc\u001b[39m>\n",
            "\u001b[0m"
          ]
        }
      ]
    },
    {
      "cell_type": "markdown",
      "metadata": {
        "id": "XqDJqyV6JvXm"
      },
      "source": [
        "Use las siguientes celdas para probar su solución:"
      ]
    },
    {
      "cell_type": "code",
      "execution_count": 30,
      "metadata": {
        "id": "tTLl2qiY_iWP",
        "outputId": "7676062b-05bf-4c92-ddd1-b55d86b51fbc",
        "colab": {
          "base_uri": "https://localhost:8080/"
        }
      },
      "outputs": [
        {
          "output_type": "stream",
          "name": "stdout",
          "text": [
            ".  ..  data  .dvc  .dvcignore  .git\n"
          ]
        }
      ],
      "source": [
        "#TEST_CELL\n",
        "import subprocess\n",
        "!ls -a"
      ]
    },
    {
      "cell_type": "markdown",
      "metadata": {
        "id": "LLl98bk-_mQ4"
      },
      "source": [
        "**Salida esperada**\n",
        "\n",
        "En este caso debería obtener los archivos dentro del repositorio:\n",
        "\n",
        "```python\n",
        "❱ !ls -a\n",
        ".  ..  data  .dvc  .dvcignore  .git\n",
        "```"
      ]
    },
    {
      "cell_type": "markdown",
      "metadata": {
        "id": "5T6GxmiX9kP-"
      },
      "source": [
        "<details>    \n",
        "<summary>\n",
        "    <font size=\"3\" color=\"darkgreen\"><b>Pista 1</b></font>\n",
        "</summary>\n",
        "\n",
        "\n",
        "* Recuerde que con `mkdir` puede crear carpetas."
      ]
    },
    {
      "cell_type": "markdown",
      "metadata": {
        "id": "dGER6Lv_9ujt"
      },
      "source": [
        "<details>    \n",
        "<summary>\n",
        "    <font size=\"3\" color=\"darkgreen\"><b>Pista 2</b></font>\n",
        "</summary>\n",
        "\n",
        "\n",
        "* Recuerde que dentro de un terminal, el comando `dvc` le permite realizar cualquier operación con los datos."
      ]
    },
    {
      "cell_type": "markdown",
      "metadata": {
        "id": "lQyHcZAK1xp7"
      },
      "source": [
        "#### **Evaluar código**"
      ]
    },
    {
      "cell_type": "markdown",
      "metadata": {
        "id": "eoxIeEbBjhqO"
      },
      "source": [
        "> **Esta celda debe ser ejecutada obligatoriamente antes de evaluar el ejercicio**"
      ]
    },
    {
      "cell_type": "code",
      "execution_count": 31,
      "metadata": {
        "id": "NCFOInnnjmZL"
      },
      "outputs": [],
      "source": [
        "dvc_comm = subprocess.check_output(['ls', '-a'])\n",
        "dvc_directory = dvc_comm.decode('utf-8').splitlines()"
      ]
    },
    {
      "cell_type": "code",
      "execution_count": 32,
      "metadata": {
        "id": "OFwSYxcyjevU",
        "outputId": "8ca5c7ef-69ee-4775-b66d-d3bfa417cf09",
        "colab": {
          "base_uri": "https://localhost:8080/",
          "height": 142
        }
      },
      "outputs": [
        {
          "output_type": "stream",
          "name": "stdout",
          "text": [
            "Test 2_1\n"
          ]
        },
        {
          "output_type": "display_data",
          "data": {
            "text/plain": [
              "<IPython.core.display.HTML object>"
            ],
            "text/html": [
              "<h4>Test Run correctly</h4>"
            ]
          },
          "metadata": {}
        },
        {
          "output_type": "display_data",
          "data": {
            "text/plain": [
              "<IPython.core.display.HTML object>"
            ],
            "text/html": [
              "<h6 style=\"color: green;\">Your test grade: 100</h6>\n",
              "<h6>Feedback: Probando código ejemplo.</h6>"
            ]
          },
          "metadata": {}
        }
      ],
      "source": [
        "grader.run_test(\"Test 2_1\", globals())"
      ]
    },
    {
      "cell_type": "markdown",
      "metadata": {
        "id": "gDnhzBI6rNJT"
      },
      "source": [
        "### **2.2. Descarga del Conjunto de Datos**\n",
        "---\n",
        "\n",
        "En este punto deberá:\n",
        "\n",
        "1. Descargar el conjunto de datos, el cual contiene información sobre la edad de niños y niñas y sus alturas.\n",
        "<center><img src = \"https://drive.google.com/uc?export=view&id=1wBEvkJdTr1I72Cob_LLgjYok7WJvlEsq\" alt = \"Encabezado MLDS\" width = \"80%\">  </img></center>\n",
        "2. Registrarlo con `dvc`.\n",
        "3. Crear un commit en `git` con el siguiente mensaje: `Versión inicial del conjunto de datos`"
      ]
    },
    {
      "cell_type": "code",
      "execution_count": 34,
      "metadata": {
        "id": "N_WUyrdk4Gfa",
        "outputId": "4413dc16-64fb-4e46-abce-30ba48e31a2d",
        "colab": {
          "base_uri": "https://localhost:8080/"
        }
      },
      "outputs": [
        {
          "output_type": "stream",
          "name": "stdout",
          "text": [
            "--2025-06-30 22:42:21--  https://raw.githubusercontent.com/mindlab-unal/mlds6-datasets/main/u2/children_age.parquet\n",
            "Resolving raw.githubusercontent.com (raw.githubusercontent.com)... 185.199.111.133, 185.199.108.133, 185.199.110.133, ...\n",
            "Connecting to raw.githubusercontent.com (raw.githubusercontent.com)|185.199.111.133|:443... connected.\n",
            "HTTP request sent, awaiting response... 200 OK\n",
            "Length: 20838 (20K) [application/octet-stream]\n",
            "Saving to: ‘data/children_age.parquet’\n",
            "\n",
            "\rchildren_age.parque   0%[                    ]       0  --.-KB/s               \rchildren_age.parque 100%[===================>]  20.35K  --.-KB/s    in 0.001s  \n",
            "\n",
            "2025-06-30 22:42:21 (15.3 MB/s) - ‘data/children_age.parquet’ saved [20838/20838]\n",
            "\n"
          ]
        }
      ],
      "source": [
        "# INGRESE SU CÓDIGO AQUI\n",
        "!wget https://raw.githubusercontent.com/mindlab-unal/mlds6-datasets/main/u2/children_age.parquet -P data/"
      ]
    },
    {
      "cell_type": "code",
      "source": [
        "!dvc add data/children_age.parquet"
      ],
      "metadata": {
        "id": "x_sDxsSBAc4L",
        "outputId": "71a74c73-ffdd-4d7c-b6e7-b16c185ba627",
        "colab": {
          "base_uri": "https://localhost:8080/"
        }
      },
      "execution_count": 35,
      "outputs": [
        {
          "output_type": "stream",
          "name": "stdout",
          "text": [
            "\u001b[?25l\u001b[32m⠋\u001b[0m Checking graph\n",
            "Adding...:   0% 0/1 [00:00<?, ?file/s{'info': ''}]\n",
            "!\u001b[A\n",
            "          |0.00 [00:00,     ?file/s]\u001b[A\n",
            "                                    \u001b[A\n",
            "!\u001b[A\n",
            "  0% |          |0/? [00:00<?,    ?files/s]\u001b[A\n",
            "                                           \u001b[A\n",
            "Adding data/children_age.parquet to cache:   0% 0/1 [00:00<?, ?file/s]\u001b[A\n",
            "  0% 0/1 [00:00<?, ?file/s{'info': ''}]                               \u001b[A\n",
            "                                       \u001b[A\n",
            "  0% 0/1 [00:00<?, ?files/s]\u001b[A\n",
            "  0% 0/1 [00:00<?, ?files/s{'info': ''}]\u001b[A\n",
            "Adding...: 100% 1/1 [00:00<00:00, 10.11file/s{'info': ''}]\n",
            "\n",
            "To track the changes with git, run:\n",
            "\n",
            "\tgit add data/.gitignore data/children_age.parquet.dvc\n",
            "\n",
            "To enable auto staging, run:\n",
            "\n",
            "\tdvc config core.autostage true\n",
            "\u001b[0m"
          ]
        }
      ]
    },
    {
      "cell_type": "code",
      "source": [
        "\n",
        "!git commit -m \"Versión inicial del conjunto de datos\""
      ],
      "metadata": {
        "id": "WtEVTFEnAtXf",
        "outputId": "0fdaec8d-7b9e-45cc-e30e-491773132caa",
        "colab": {
          "base_uri": "https://localhost:8080/"
        }
      },
      "execution_count": 36,
      "outputs": [
        {
          "output_type": "stream",
          "name": "stdout",
          "text": [
            "[master (root-commit) 36f898b] Versión inicial del conjunto de datos\n",
            " 3 files changed, 6 insertions(+)\n",
            " create mode 100644 .dvc/.gitignore\n",
            " create mode 100644 .dvc/config\n",
            " create mode 100644 .dvcignore\n"
          ]
        }
      ]
    },
    {
      "cell_type": "markdown",
      "metadata": {
        "id": "kwi2FLEwrNJU"
      },
      "source": [
        "Use las siguientes celdas para probar su solución:"
      ]
    },
    {
      "cell_type": "code",
      "execution_count": 37,
      "metadata": {
        "id": "FUXidgON4djb",
        "outputId": "274514f8-7582-4e2b-9091-a13779587eaa",
        "colab": {
          "base_uri": "https://localhost:8080/"
        }
      },
      "outputs": [
        {
          "output_type": "stream",
          "name": "stdout",
          "text": [
            ".  ..  children_age.parquet  children_age.parquet.dvc  .gitignore\n"
          ]
        }
      ],
      "source": [
        "#TEST_CELL\n",
        "import subprocess\n",
        "!ls -a data/"
      ]
    },
    {
      "cell_type": "markdown",
      "metadata": {
        "id": "-QDtNQAF4e2I"
      },
      "source": [
        "**Salida esperada**\n",
        "\n",
        "En este caso debería obtener los archivos dentro de la carpeta de datos.\n",
        "\n",
        "```python\n",
        "❱ !ls -a data/\n",
        ".  ..  children_age.parquet  children_age.parquet.dvc  .gitignore\n",
        "```"
      ]
    },
    {
      "cell_type": "code",
      "execution_count": 38,
      "metadata": {
        "id": "JvPLsxtn4kA7",
        "outputId": "63321f39-4852-46d5-a5e2-24e5234874b6",
        "colab": {
          "base_uri": "https://localhost:8080/"
        }
      },
      "outputs": [
        {
          "output_type": "stream",
          "name": "stdout",
          "text": [
            "Versión inicial del conjunto de datos"
          ]
        }
      ],
      "source": [
        "#TEST_CELL\n",
        "!git log -1 --pretty=format:%s"
      ]
    },
    {
      "cell_type": "markdown",
      "metadata": {
        "id": "WrYvocxS4hnn"
      },
      "source": [
        "**Salida esperada**\n",
        "\n",
        "En este caso obtendrá el mensaje del último commit:\n",
        "\n",
        "```python\n",
        "❱ !git log -1 --pretty=format:%s\n",
        "Versión inicial del conjunto de datos\n",
        "```"
      ]
    },
    {
      "cell_type": "markdown",
      "metadata": {
        "id": "M6yRKmDc4u80"
      },
      "source": [
        "Cargamos el conjunto de datos:"
      ]
    },
    {
      "cell_type": "code",
      "execution_count": 39,
      "metadata": {
        "id": "tfXYtQzp4uJB",
        "outputId": "51771953-444d-4b85-eed9-f7548a23a7e4",
        "colab": {
          "base_uri": "https://localhost:8080/",
          "height": 206
        }
      },
      "outputs": [
        {
          "output_type": "display_data",
          "data": {
            "text/plain": [
              "         age      height\n",
              "0   7.503300   91.379984\n",
              "1   6.561946  111.510033\n",
              "2   7.555379  116.724103\n",
              "3  12.900155  146.281398\n",
              "4  10.618378  144.644949"
            ],
            "text/html": [
              "\n",
              "  <div id=\"df-5bf30377-1c2c-43b5-b20d-eeae8ec5f104\" class=\"colab-df-container\">\n",
              "    <div>\n",
              "<style scoped>\n",
              "    .dataframe tbody tr th:only-of-type {\n",
              "        vertical-align: middle;\n",
              "    }\n",
              "\n",
              "    .dataframe tbody tr th {\n",
              "        vertical-align: top;\n",
              "    }\n",
              "\n",
              "    .dataframe thead th {\n",
              "        text-align: right;\n",
              "    }\n",
              "</style>\n",
              "<table border=\"1\" class=\"dataframe\">\n",
              "  <thead>\n",
              "    <tr style=\"text-align: right;\">\n",
              "      <th></th>\n",
              "      <th>age</th>\n",
              "      <th>height</th>\n",
              "    </tr>\n",
              "  </thead>\n",
              "  <tbody>\n",
              "    <tr>\n",
              "      <th>0</th>\n",
              "      <td>7.503300</td>\n",
              "      <td>91.379984</td>\n",
              "    </tr>\n",
              "    <tr>\n",
              "      <th>1</th>\n",
              "      <td>6.561946</td>\n",
              "      <td>111.510033</td>\n",
              "    </tr>\n",
              "    <tr>\n",
              "      <th>2</th>\n",
              "      <td>7.555379</td>\n",
              "      <td>116.724103</td>\n",
              "    </tr>\n",
              "    <tr>\n",
              "      <th>3</th>\n",
              "      <td>12.900155</td>\n",
              "      <td>146.281398</td>\n",
              "    </tr>\n",
              "    <tr>\n",
              "      <th>4</th>\n",
              "      <td>10.618378</td>\n",
              "      <td>144.644949</td>\n",
              "    </tr>\n",
              "  </tbody>\n",
              "</table>\n",
              "</div>\n",
              "    <div class=\"colab-df-buttons\">\n",
              "\n",
              "  <div class=\"colab-df-container\">\n",
              "    <button class=\"colab-df-convert\" onclick=\"convertToInteractive('df-5bf30377-1c2c-43b5-b20d-eeae8ec5f104')\"\n",
              "            title=\"Convert this dataframe to an interactive table.\"\n",
              "            style=\"display:none;\">\n",
              "\n",
              "  <svg xmlns=\"http://www.w3.org/2000/svg\" height=\"24px\" viewBox=\"0 -960 960 960\">\n",
              "    <path d=\"M120-120v-720h720v720H120Zm60-500h600v-160H180v160Zm220 220h160v-160H400v160Zm0 220h160v-160H400v160ZM180-400h160v-160H180v160Zm440 0h160v-160H620v160ZM180-180h160v-160H180v160Zm440 0h160v-160H620v160Z\"/>\n",
              "  </svg>\n",
              "    </button>\n",
              "\n",
              "  <style>\n",
              "    .colab-df-container {\n",
              "      display:flex;\n",
              "      gap: 12px;\n",
              "    }\n",
              "\n",
              "    .colab-df-convert {\n",
              "      background-color: #E8F0FE;\n",
              "      border: none;\n",
              "      border-radius: 50%;\n",
              "      cursor: pointer;\n",
              "      display: none;\n",
              "      fill: #1967D2;\n",
              "      height: 32px;\n",
              "      padding: 0 0 0 0;\n",
              "      width: 32px;\n",
              "    }\n",
              "\n",
              "    .colab-df-convert:hover {\n",
              "      background-color: #E2EBFA;\n",
              "      box-shadow: 0px 1px 2px rgba(60, 64, 67, 0.3), 0px 1px 3px 1px rgba(60, 64, 67, 0.15);\n",
              "      fill: #174EA6;\n",
              "    }\n",
              "\n",
              "    .colab-df-buttons div {\n",
              "      margin-bottom: 4px;\n",
              "    }\n",
              "\n",
              "    [theme=dark] .colab-df-convert {\n",
              "      background-color: #3B4455;\n",
              "      fill: #D2E3FC;\n",
              "    }\n",
              "\n",
              "    [theme=dark] .colab-df-convert:hover {\n",
              "      background-color: #434B5C;\n",
              "      box-shadow: 0px 1px 3px 1px rgba(0, 0, 0, 0.15);\n",
              "      filter: drop-shadow(0px 1px 2px rgba(0, 0, 0, 0.3));\n",
              "      fill: #FFFFFF;\n",
              "    }\n",
              "  </style>\n",
              "\n",
              "    <script>\n",
              "      const buttonEl =\n",
              "        document.querySelector('#df-5bf30377-1c2c-43b5-b20d-eeae8ec5f104 button.colab-df-convert');\n",
              "      buttonEl.style.display =\n",
              "        google.colab.kernel.accessAllowed ? 'block' : 'none';\n",
              "\n",
              "      async function convertToInteractive(key) {\n",
              "        const element = document.querySelector('#df-5bf30377-1c2c-43b5-b20d-eeae8ec5f104');\n",
              "        const dataTable =\n",
              "          await google.colab.kernel.invokeFunction('convertToInteractive',\n",
              "                                                    [key], {});\n",
              "        if (!dataTable) return;\n",
              "\n",
              "        const docLinkHtml = 'Like what you see? Visit the ' +\n",
              "          '<a target=\"_blank\" href=https://colab.research.google.com/notebooks/data_table.ipynb>data table notebook</a>'\n",
              "          + ' to learn more about interactive tables.';\n",
              "        element.innerHTML = '';\n",
              "        dataTable['output_type'] = 'display_data';\n",
              "        await google.colab.output.renderOutput(dataTable, element);\n",
              "        const docLink = document.createElement('div');\n",
              "        docLink.innerHTML = docLinkHtml;\n",
              "        element.appendChild(docLink);\n",
              "      }\n",
              "    </script>\n",
              "  </div>\n",
              "\n",
              "\n",
              "    <div id=\"df-0a8e0f16-de9d-42a6-ab1f-2ed5788aaced\">\n",
              "      <button class=\"colab-df-quickchart\" onclick=\"quickchart('df-0a8e0f16-de9d-42a6-ab1f-2ed5788aaced')\"\n",
              "                title=\"Suggest charts\"\n",
              "                style=\"display:none;\">\n",
              "\n",
              "<svg xmlns=\"http://www.w3.org/2000/svg\" height=\"24px\"viewBox=\"0 0 24 24\"\n",
              "     width=\"24px\">\n",
              "    <g>\n",
              "        <path d=\"M19 3H5c-1.1 0-2 .9-2 2v14c0 1.1.9 2 2 2h14c1.1 0 2-.9 2-2V5c0-1.1-.9-2-2-2zM9 17H7v-7h2v7zm4 0h-2V7h2v10zm4 0h-2v-4h2v4z\"/>\n",
              "    </g>\n",
              "</svg>\n",
              "      </button>\n",
              "\n",
              "<style>\n",
              "  .colab-df-quickchart {\n",
              "      --bg-color: #E8F0FE;\n",
              "      --fill-color: #1967D2;\n",
              "      --hover-bg-color: #E2EBFA;\n",
              "      --hover-fill-color: #174EA6;\n",
              "      --disabled-fill-color: #AAA;\n",
              "      --disabled-bg-color: #DDD;\n",
              "  }\n",
              "\n",
              "  [theme=dark] .colab-df-quickchart {\n",
              "      --bg-color: #3B4455;\n",
              "      --fill-color: #D2E3FC;\n",
              "      --hover-bg-color: #434B5C;\n",
              "      --hover-fill-color: #FFFFFF;\n",
              "      --disabled-bg-color: #3B4455;\n",
              "      --disabled-fill-color: #666;\n",
              "  }\n",
              "\n",
              "  .colab-df-quickchart {\n",
              "    background-color: var(--bg-color);\n",
              "    border: none;\n",
              "    border-radius: 50%;\n",
              "    cursor: pointer;\n",
              "    display: none;\n",
              "    fill: var(--fill-color);\n",
              "    height: 32px;\n",
              "    padding: 0;\n",
              "    width: 32px;\n",
              "  }\n",
              "\n",
              "  .colab-df-quickchart:hover {\n",
              "    background-color: var(--hover-bg-color);\n",
              "    box-shadow: 0 1px 2px rgba(60, 64, 67, 0.3), 0 1px 3px 1px rgba(60, 64, 67, 0.15);\n",
              "    fill: var(--button-hover-fill-color);\n",
              "  }\n",
              "\n",
              "  .colab-df-quickchart-complete:disabled,\n",
              "  .colab-df-quickchart-complete:disabled:hover {\n",
              "    background-color: var(--disabled-bg-color);\n",
              "    fill: var(--disabled-fill-color);\n",
              "    box-shadow: none;\n",
              "  }\n",
              "\n",
              "  .colab-df-spinner {\n",
              "    border: 2px solid var(--fill-color);\n",
              "    border-color: transparent;\n",
              "    border-bottom-color: var(--fill-color);\n",
              "    animation:\n",
              "      spin 1s steps(1) infinite;\n",
              "  }\n",
              "\n",
              "  @keyframes spin {\n",
              "    0% {\n",
              "      border-color: transparent;\n",
              "      border-bottom-color: var(--fill-color);\n",
              "      border-left-color: var(--fill-color);\n",
              "    }\n",
              "    20% {\n",
              "      border-color: transparent;\n",
              "      border-left-color: var(--fill-color);\n",
              "      border-top-color: var(--fill-color);\n",
              "    }\n",
              "    30% {\n",
              "      border-color: transparent;\n",
              "      border-left-color: var(--fill-color);\n",
              "      border-top-color: var(--fill-color);\n",
              "      border-right-color: var(--fill-color);\n",
              "    }\n",
              "    40% {\n",
              "      border-color: transparent;\n",
              "      border-right-color: var(--fill-color);\n",
              "      border-top-color: var(--fill-color);\n",
              "    }\n",
              "    60% {\n",
              "      border-color: transparent;\n",
              "      border-right-color: var(--fill-color);\n",
              "    }\n",
              "    80% {\n",
              "      border-color: transparent;\n",
              "      border-right-color: var(--fill-color);\n",
              "      border-bottom-color: var(--fill-color);\n",
              "    }\n",
              "    90% {\n",
              "      border-color: transparent;\n",
              "      border-bottom-color: var(--fill-color);\n",
              "    }\n",
              "  }\n",
              "</style>\n",
              "\n",
              "      <script>\n",
              "        async function quickchart(key) {\n",
              "          const quickchartButtonEl =\n",
              "            document.querySelector('#' + key + ' button');\n",
              "          quickchartButtonEl.disabled = true;  // To prevent multiple clicks.\n",
              "          quickchartButtonEl.classList.add('colab-df-spinner');\n",
              "          try {\n",
              "            const charts = await google.colab.kernel.invokeFunction(\n",
              "                'suggestCharts', [key], {});\n",
              "          } catch (error) {\n",
              "            console.error('Error during call to suggestCharts:', error);\n",
              "          }\n",
              "          quickchartButtonEl.classList.remove('colab-df-spinner');\n",
              "          quickchartButtonEl.classList.add('colab-df-quickchart-complete');\n",
              "        }\n",
              "        (() => {\n",
              "          let quickchartButtonEl =\n",
              "            document.querySelector('#df-0a8e0f16-de9d-42a6-ab1f-2ed5788aaced button');\n",
              "          quickchartButtonEl.style.display =\n",
              "            google.colab.kernel.accessAllowed ? 'block' : 'none';\n",
              "        })();\n",
              "      </script>\n",
              "    </div>\n",
              "\n",
              "    </div>\n",
              "  </div>\n"
            ],
            "application/vnd.google.colaboratory.intrinsic+json": {
              "type": "dataframe",
              "summary": "{\n  \"name\": \"display(data\",\n  \"rows\": 5,\n  \"fields\": [\n    {\n      \"column\": \"age\",\n      \"properties\": {\n        \"dtype\": \"number\",\n        \"std\": 2.6503597574313904,\n        \"min\": 6.561946426923576,\n        \"max\": 12.900154804840545,\n        \"num_unique_values\": 5,\n        \"samples\": [\n          6.561946426923576,\n          10.618377901445069,\n          7.555379337758747\n        ],\n        \"semantic_type\": \"\",\n        \"description\": \"\"\n      }\n    },\n    {\n      \"column\": \"height\",\n      \"properties\": {\n        \"dtype\": \"number\",\n        \"std\": 23.33335301909715,\n        \"min\": 91.3799843016999,\n        \"max\": 146.2813982971449,\n        \"num_unique_values\": 5,\n        \"samples\": [\n          111.51003335618063,\n          144.6449491093512,\n          116.72410304977076\n        ],\n        \"semantic_type\": \"\",\n        \"description\": \"\"\n      }\n    }\n  ]\n}"
            }
          },
          "metadata": {}
        }
      ],
      "source": [
        "#TEST_CELL\n",
        "data = pd.read_parquet(\"data/children_age.parquet\")\n",
        "display(data.head())"
      ]
    },
    {
      "cell_type": "markdown",
      "metadata": {
        "id": "kxOJH729rNJV"
      },
      "source": [
        "<details>    \n",
        "<summary>\n",
        "    <font size=\"3\" color=\"darkgreen\"><b>Pista 1</b></font>\n",
        "</summary>\n",
        "\n",
        "\n",
        "* Recuerde que puede descargar archivos con el comando `wget`."
      ]
    },
    {
      "cell_type": "markdown",
      "metadata": {
        "id": "liWRJwV2rNJW"
      },
      "source": [
        "<details>    \n",
        "<summary>\n",
        "    <font size=\"3\" color=\"darkgreen\"><b>Pista 2</b></font>\n",
        "</summary>\n",
        "\n",
        "\n",
        "* Recuerde que desde un terminal puede usar el comando `dvc` para interactuar con la herramienta."
      ]
    },
    {
      "cell_type": "markdown",
      "metadata": {
        "id": "SbO_sqha4RIZ"
      },
      "source": [
        "<details>    \n",
        "<summary>\n",
        "    <font size=\"3\" color=\"darkgreen\"><b>Pista 3</b></font>\n",
        "</summary>\n",
        "\n",
        "\n",
        "* Puede usar el comando `git add -A` para mover todos los archivos al area de preparación."
      ]
    },
    {
      "cell_type": "markdown",
      "source": [],
      "metadata": {
        "id": "K2E_PBzl_sSJ"
      }
    },
    {
      "cell_type": "markdown",
      "metadata": {
        "id": "TjpHU9urrNJW"
      },
      "source": [
        "#### **Evaluar código**"
      ]
    },
    {
      "cell_type": "markdown",
      "metadata": {
        "id": "YqPOZ1hNjJgO"
      },
      "source": [
        "> **Esta celda debe ser ejecutada obligatoriamente antes de evaluar el ejercicio**"
      ]
    },
    {
      "cell_type": "code",
      "execution_count": 40,
      "metadata": {
        "id": "Kk2H5Aa5jM3x"
      },
      "outputs": [],
      "source": [
        "data_directory = subprocess.check_output(['ls', '-a', 'data/'])\n",
        "s_data_directory_dvc = data_directory.decode('utf-8').splitlines()"
      ]
    },
    {
      "cell_type": "code",
      "execution_count": 41,
      "metadata": {
        "id": "x_3uuCuPrNJX",
        "outputId": "4f5f67f6-7a51-4db7-ffc7-e6061211acb0",
        "colab": {
          "base_uri": "https://localhost:8080/",
          "height": 142
        }
      },
      "outputs": [
        {
          "output_type": "stream",
          "name": "stdout",
          "text": [
            "Test 2_2\n"
          ]
        },
        {
          "output_type": "display_data",
          "data": {
            "text/plain": [
              "<IPython.core.display.HTML object>"
            ],
            "text/html": [
              "<h4>Test Run correctly</h4>"
            ]
          },
          "metadata": {}
        },
        {
          "output_type": "display_data",
          "data": {
            "text/plain": [
              "<IPython.core.display.HTML object>"
            ],
            "text/html": [
              "<h6 style=\"color: green;\">Your test grade: 100</h6>\n",
              "<h6>Feedback: Probando código ejemplo.</h6>"
            ]
          },
          "metadata": {}
        }
      ],
      "source": [
        "grader.run_test(\"Test 2_2\", globals())"
      ]
    },
    {
      "cell_type": "markdown",
      "metadata": {
        "id": "smPcUqFO6ve3"
      },
      "source": [
        "## **3. Modelamiento**\n",
        "---\n",
        "\n",
        "En este punto deberá entrenar un modelo de regresión sobre los datos y versionar el modelo con `mlflow`.\n",
        "\n",
        "Para esto, iniciamos el servidor de `mlflow`:"
      ]
    },
    {
      "cell_type": "code",
      "execution_count": 42,
      "metadata": {
        "id": "WkY5phLZ9W6N"
      },
      "outputs": [],
      "source": [
        "command = \"\"\"\n",
        "mlflow server \\\n",
        "        --backend-store-uri sqlite:///tracking.db \\\n",
        "        --default-artifact-root file:mlruns \\\n",
        "        -p 5000 &\n",
        "\"\"\"\n",
        "get_ipython().system_raw(command)"
      ]
    },
    {
      "cell_type": "markdown",
      "metadata": {
        "id": "46dMqxHY9bhX"
      },
      "source": [
        "Instalamos `ngrok`:"
      ]
    },
    {
      "cell_type": "code",
      "execution_count": 43,
      "metadata": {
        "id": "XPTeAmdn9cNf",
        "outputId": "593d4d90-9141-4d0e-ad7c-59ab62ee78ce",
        "colab": {
          "base_uri": "https://localhost:8080/"
        }
      },
      "outputs": [
        {
          "output_type": "stream",
          "name": "stdout",
          "text": [
            "Collecting pyngrok\n",
            "  Downloading pyngrok-7.2.11-py3-none-any.whl.metadata (9.4 kB)\n",
            "Requirement already satisfied: PyYAML>=5.1 in /usr/local/lib/python3.11/dist-packages (from pyngrok) (6.0.2)\n",
            "Downloading pyngrok-7.2.11-py3-none-any.whl (25 kB)\n",
            "Installing collected packages: pyngrok\n",
            "Successfully installed pyngrok-7.2.11\n"
          ]
        }
      ],
      "source": [
        "!pip install pyngrok"
      ]
    },
    {
      "cell_type": "markdown",
      "metadata": {
        "id": "jrmBjDZ99gBw"
      },
      "source": [
        "Debe reemplazar el token en la siguiente variable:"
      ]
    },
    {
      "cell_type": "code",
      "execution_count": 46,
      "metadata": {
        "id": "g58J2sQb9gqH"
      },
      "outputs": [],
      "source": [
        "token = \"2zFQ27y7OOwYgbnCISGgV3JsSuv_3iofXqkfm971m5QuFR1NY\" # Agregue el token dentro de las comillas\n",
        "os.environ[\"NGROK_TOKEN\"] = token"
      ]
    },
    {
      "cell_type": "markdown",
      "metadata": {
        "id": "hd2O8_fa9678"
      },
      "source": [
        "Nos autenticamos en ngrok:"
      ]
    },
    {
      "cell_type": "code",
      "execution_count": 47,
      "metadata": {
        "id": "XUO61_Aj97de",
        "outputId": "126e69e7-b75d-41f1-97d3-54ddbea7cb2b",
        "colab": {
          "base_uri": "https://localhost:8080/"
        }
      },
      "outputs": [
        {
          "output_type": "stream",
          "name": "stdout",
          "text": [
            "Authtoken saved to configuration file: /root/.config/ngrok/ngrok.yml\n"
          ]
        }
      ],
      "source": [
        "!ngrok authtoken $NGROK_TOKEN"
      ]
    },
    {
      "cell_type": "markdown",
      "metadata": {
        "id": "mQrALksd9_Ci"
      },
      "source": [
        "Ahora, lanzamos la conexión con ngrok:"
      ]
    },
    {
      "cell_type": "code",
      "execution_count": 48,
      "metadata": {
        "id": "vcW4WQ9B9_nJ",
        "outputId": "3412fcb8-c3e9-4dab-a029-40a5d149ecf7",
        "colab": {
          "base_uri": "https://localhost:8080/"
        }
      },
      "outputs": [
        {
          "output_type": "execute_result",
          "data": {
            "text/plain": [
              "<NgrokTunnel: \"https://20ce-34-16-48-19.ngrok-free.app\" -> \"http://localhost:5000\">"
            ]
          },
          "metadata": {},
          "execution_count": 48
        }
      ],
      "source": [
        "from pyngrok import ngrok\n",
        "ngrok.connect(5000, \"http\")"
      ]
    },
    {
      "cell_type": "markdown",
      "metadata": {
        "id": "h26hHM2l-D8y"
      },
      "source": [
        "Especificamos que MLFlow debe usar el servidor que estamos manejando."
      ]
    },
    {
      "cell_type": "code",
      "execution_count": 49,
      "metadata": {
        "id": "aDYmLgxM-ExG"
      },
      "outputs": [],
      "source": [
        "mlflow.set_tracking_uri(\"http://localhost:5000\")"
      ]
    },
    {
      "cell_type": "markdown",
      "metadata": {
        "id": "BkFE17bI62S6"
      },
      "source": [
        "### **3.1. Creación del Experimento**\n",
        "---\n",
        "\n",
        "Cree un experimento con el nombre `children` y con una ruta para artefactos ubicada en la carpeta `mlruns`. Esto debe quedar almacenado en la variable `exp_id`:"
      ]
    },
    {
      "cell_type": "code",
      "execution_count": 50,
      "metadata": {
        "id": "kFL-y0uN-e9j"
      },
      "outputs": [],
      "source": [
        "# INGRESE SU CÓDIGO AQUÍ\n",
        "try:\n",
        "    exp_id = mlflow.create_experiment(name=\"children\", artifact_location=\"mlruns/\")\n",
        "except:\n",
        "    print(\"Revise que el código sea correcto, el experimento únicamente se puede crear una vez (evite correr el código varias veces)\")"
      ]
    },
    {
      "cell_type": "markdown",
      "metadata": {
        "id": "NSVCxxyU-3wp"
      },
      "source": [
        "Use las siguientes celdas para probar su solución:"
      ]
    },
    {
      "cell_type": "code",
      "execution_count": 51,
      "metadata": {
        "id": "akvyxBoB-4DP",
        "outputId": "c8d015cc-6322-4e84-8adc-802bef0e3c77",
        "colab": {
          "base_uri": "https://localhost:8080/"
        }
      },
      "outputs": [
        {
          "output_type": "stream",
          "name": "stdout",
          "text": [
            "children\n",
            "mlruns\n"
          ]
        }
      ],
      "source": [
        "#TEST_CELL\n",
        "experiment = mlflow.get_experiment_by_name(\"children\")\n",
        "print(experiment.name)\n",
        "print(experiment.artifact_location.split(\"/\")[-1])"
      ]
    },
    {
      "cell_type": "markdown",
      "metadata": {
        "id": "5bzASDQQ_Hci"
      },
      "source": [
        "**Salida esperada**\n",
        "\n",
        "Este caso obtiene el nombre del experimento y la ruta de los artefactos:\n",
        "\n",
        "```python\n",
        "❱ print(experiment.name)\n",
        "children\n",
        "\n",
        "❱ print(experiment.artifact_location.split(\"/\")[-1])\n",
        "mlruns\n",
        "```"
      ]
    },
    {
      "cell_type": "markdown",
      "metadata": {
        "id": "ftSmgHTb7geI"
      },
      "source": [
        "<details>    \n",
        "<summary>\n",
        "    <font size=\"3\" color=\"darkgreen\"><b>Pista 1</b></font>\n",
        "</summary>\n",
        "\n",
        "\n",
        "* Un experimento se crea con la función `create_experiment` de `mlflow`."
      ]
    },
    {
      "cell_type": "markdown",
      "metadata": {
        "id": "q7MYhKQU7sy5"
      },
      "source": [
        "<details>    \n",
        "<summary>\n",
        "    <font size=\"3\" color=\"darkgreen\"><b>Pista 2</b></font>\n",
        "</summary>\n",
        "\n",
        "\n",
        "* El experimento lo debe crear una única vez, no pueden haber nombres repetidos."
      ]
    },
    {
      "cell_type": "markdown",
      "metadata": {
        "id": "VPgxUYC472JL"
      },
      "source": [
        "#### **Evaluar código**"
      ]
    },
    {
      "cell_type": "code",
      "execution_count": 52,
      "metadata": {
        "id": "26T43R7KDJ5_",
        "outputId": "91ee6924-0670-44bb-f69b-ebe119fe88bd",
        "colab": {
          "base_uri": "https://localhost:8080/",
          "height": 142
        }
      },
      "outputs": [
        {
          "output_type": "stream",
          "name": "stdout",
          "text": [
            "Test 3_1\n"
          ]
        },
        {
          "output_type": "display_data",
          "data": {
            "text/plain": [
              "<IPython.core.display.HTML object>"
            ],
            "text/html": [
              "<h4>Test Run correctly</h4>"
            ]
          },
          "metadata": {}
        },
        {
          "output_type": "display_data",
          "data": {
            "text/plain": [
              "<IPython.core.display.HTML object>"
            ],
            "text/html": [
              "<h6 style=\"color: green;\">Your test grade: 100</h6>\n",
              "<h6>Feedback: Probando código ejemplo.</h6>"
            ]
          },
          "metadata": {}
        }
      ],
      "source": [
        "grader.run_test(\"Test 3_1\", globals())"
      ]
    },
    {
      "cell_type": "markdown",
      "metadata": {
        "id": "nroHCpogFDul"
      },
      "source": [
        "### **3.2. Entrenamiento del modelo**\n",
        "---\n",
        "\n",
        "Implemente una función que permita entrenar un modelo de regresión lineal en `sklearn` para predecir la estatura (`height`) en función de la edad de un niño (`age`). Esta función deberá retornar el modelo entrenado y el valor del $r^2$.\n",
        "\n",
        "Para esto tiene que implementar la función `linear_reg` la cual toma como entrada los datos y retorna el modelo y la métrica.\n",
        "\n",
        "**Parametros**\n",
        "\n",
        "- `df`: conjunto de datos como un `pd.DataFrame`.\n",
        "\n",
        "**Retorna**\n",
        "\n",
        "- `model`: modelo entrenado.\n",
        "- `score`: $r^2$."
      ]
    },
    {
      "cell_type": "code",
      "source": [
        "from sklearn.linear_model import LinearRegression"
      ],
      "metadata": {
        "id": "-PYKKwIMFnm_"
      },
      "execution_count": 60,
      "outputs": []
    },
    {
      "cell_type": "code",
      "source": [
        "from sklearn.metrics import r2_score"
      ],
      "metadata": {
        "id": "Au0UnBeAFoVH"
      },
      "execution_count": 82,
      "outputs": []
    },
    {
      "cell_type": "code",
      "execution_count": 83,
      "metadata": {
        "id": "oyiv6hvwFDul"
      },
      "outputs": [],
      "source": [
        "# FUNCIÓN CALIFICADA linear_reg:\n",
        "def linear_reg(df):\n",
        "    ### ESCRIBA SU CÓDIGO AQUÍ ###\n",
        "    # Asegurar que los datos no tienen valores nulos\n",
        "    df = df[['age', 'height']].dropna()\n",
        "\n",
        "    X = df[['age']]  # debe ser un DataFrame\n",
        "    y = df['height']  # es una Serie\n",
        "\n",
        "    model = LinearRegression()\n",
        "    model.fit(X, y)\n",
        "    score = model.score(X, y)\n",
        "\n",
        "    return model, score\n",
        "    ### FIN DEL CÓDIGO ###"
      ]
    },
    {
      "cell_type": "markdown",
      "metadata": {
        "id": "k8rdta93FDul"
      },
      "source": [
        "Use las siguientes celdas para probar su solución:"
      ]
    },
    {
      "cell_type": "code",
      "execution_count": 84,
      "metadata": {
        "id": "iQsnrigRFDul",
        "outputId": "338da27e-ee85-47b7-f53c-ec14ac3f722b",
        "colab": {
          "base_uri": "https://localhost:8080/"
        }
      },
      "outputs": [
        {
          "output_type": "stream",
          "name": "stdout",
          "text": [
            "[7.99838893]\n",
            "50.08623865698938\n",
            "0.9431512177265906\n"
          ]
        }
      ],
      "source": [
        "#TEST_CELL\n",
        "model, score = linear_reg(data)\n",
        "print(model.coef_)\n",
        "print(model.intercept_)\n",
        "print(score)"
      ]
    },
    {
      "cell_type": "markdown",
      "metadata": {
        "id": "J8VakjXhFDum"
      },
      "source": [
        "**Salida esperada**\n",
        "\n",
        "En este caso debería obtener los parámetros del modelo y la métrica de desempeño:\n",
        "\n",
        "```python\n",
        "❱ print(model.coef_)\n",
        "[7.99838893]\n",
        "\n",
        "❱ print(model.intercept_)\n",
        "50.08623865698938\n",
        "\n",
        "❱ print(score)\n",
        "0.9431512177265906\n",
        "```"
      ]
    },
    {
      "cell_type": "markdown",
      "metadata": {
        "id": "YFTnYHxAFDum"
      },
      "source": [
        "<details>    \n",
        "<summary>\n",
        "    <font size=\"3\" color=\"darkgreen\"><b>Pista 1</b></font>\n",
        "</summary>\n",
        "\n",
        "\n",
        "* Recuerde que un modelo de regresión lineal en `sklearn` se usa con la clase `LinearRegression`."
      ]
    },
    {
      "cell_type": "markdown",
      "metadata": {
        "id": "C9Nl6U4BFDum"
      },
      "source": [
        "<details>    \n",
        "<summary>\n",
        "    <font size=\"3\" color=\"darkgreen\"><b>Pista 2</b></font>\n",
        "</summary>\n",
        "\n",
        "\n",
        "* Recuerde que puede evaluar el $r^2$ en modelos de regresión con el método `score`."
      ]
    },
    {
      "cell_type": "markdown",
      "metadata": {
        "id": "SDq1Gyk0FDum"
      },
      "source": [
        "#### **Evaluar código**"
      ]
    },
    {
      "cell_type": "code",
      "execution_count": 85,
      "metadata": {
        "id": "8vZaPRU7FDum",
        "outputId": "ec4f8924-f46d-4987-9fbd-427ec588e8b8",
        "colab": {
          "base_uri": "https://localhost:8080/",
          "height": 142
        }
      },
      "outputs": [
        {
          "output_type": "stream",
          "name": "stdout",
          "text": [
            "Test 3_2\n"
          ]
        },
        {
          "output_type": "display_data",
          "data": {
            "text/plain": [
              "<IPython.core.display.HTML object>"
            ],
            "text/html": [
              "<h4>Test Run correctly</h4>"
            ]
          },
          "metadata": {}
        },
        {
          "output_type": "display_data",
          "data": {
            "text/plain": [
              "<IPython.core.display.HTML object>"
            ],
            "text/html": [
              "<h6 style=\"color: green;\">Your test grade: 100</h6>\n",
              "<h6>Feedback: Probando código ejemplo.</h6>"
            ]
          },
          "metadata": {}
        }
      ],
      "source": [
        "grader.run_test(\"Test 3_2\", globals())"
      ]
    },
    {
      "cell_type": "markdown",
      "metadata": {
        "id": "CSfJmao_Hx-s"
      },
      "source": [
        "### **3.3. Ejecución en mlflow**\n",
        "---\n",
        "\n",
        "En este punto deberá crear una ejecución donde registre el modelo y la métrica obtenida. Para esto deberá crear una ejecución con el nombre `linear` dado el experimento correspondiente.\n",
        "\n",
        "Debe implementar la función `mlflow_run`, la cual toma como entrada los datos y un experimento; esta debe registrar el modelo bajo el nombre `model` y la métrica bajo el nombre de `score`.\n",
        "\n",
        "**Parámetros**\n",
        "---\n",
        "\n",
        "- `df`: conjunto de datos como un `pd.DataFrame`.\n",
        "- `exp`: experimento de `mlflow`.\n",
        "\n",
        "**Retorna**\n",
        "---\n",
        "\n",
        "- `run`: ejecución de `mlflow`."
      ]
    },
    {
      "cell_type": "code",
      "execution_count": 65,
      "metadata": {
        "id": "oaAfKKA4Hx-t"
      },
      "outputs": [],
      "source": [
        "# FUNCIÓN CALIFICADA mlflow_run:\n",
        "def mlflow_run(df, exp):\n",
        "    ### ESCRIBA SU CÓDIGO AQUÍ ###\n",
        "    run = mlflow.start_run(\n",
        "    experiment_id = exp_id,\n",
        "    run_name=\"default_regresion\"\n",
        "    )\n",
        "    return run\n",
        "    ### FIN DEL CÓDIGO ###"
      ]
    },
    {
      "cell_type": "code",
      "source": [
        "# FUNCIÓN CALIFICADA mlflow_run:\n",
        "def mlflow_run(df, exp):\n",
        "    ### ESCRIBA SU CÓDIGO AQUÍ ###\n",
        "\n",
        "    # Si hay una ejecución activa, terminarla\n",
        "    if mlflow.active_run() is not None:\n",
        "        mlflow.end_run()\n",
        "\n",
        "    # Crear o establecer el experimento\n",
        "    experiment = mlflow.set_experiment(exp)\n",
        "    exp_id = experiment.experiment_id\n",
        "\n",
        "    # Iniciar la ejecución con nombre \"linear\"\n",
        "    run = mlflow.start_run(experiment_id=exp_id, run_name=\"linear\")\n",
        "\n",
        "    # Entrenamiento del modelo\n",
        "    X = df[['age']]\n",
        "    y = df['height']\n",
        "    model = LinearRegression()\n",
        "    model.fit(X, y)\n",
        "    y_pred = model.predict(X)\n",
        "    score = r2_score(y, y_pred)\n",
        "\n",
        "    # Registro del modelo y la métrica\n",
        "    mlflow.log_metric(\"score\", score)\n",
        "    mlflow.sklearn.log_model(model, artifact_path=\"model\")\n",
        "\n",
        "    # Finalizar ejecución\n",
        "    mlflow.end_run()\n",
        "\n",
        "    return run\n",
        "    ### FIN DEL CÓDIGO ###"
      ],
      "metadata": {
        "id": "pkuSl1p1bqLY"
      },
      "execution_count": 86,
      "outputs": []
    },
    {
      "cell_type": "markdown",
      "metadata": {
        "id": "RJ7pSVqVHx-t"
      },
      "source": [
        "Use las siguientes celdas para probar su solución:"
      ]
    },
    {
      "cell_type": "code",
      "execution_count": 87,
      "metadata": {
        "id": "tBqEQ2jdHx-t",
        "outputId": "93eec9f7-71fb-4113-b6b4-954196877484",
        "colab": {
          "base_uri": "https://localhost:8080/"
        }
      },
      "outputs": [
        {
          "output_type": "stream",
          "name": "stderr",
          "text": [
            "2025/07/01 01:09:41 WARNING mlflow.models.model: Model logged without a signature and input example. Please set `input_example` parameter when logging the model to auto infer the model signature.\n",
            "2025/07/01 01:09:41 INFO mlflow.tracking._tracking_service.client: 🏃 View run linear at: http://localhost:5000/#/experiments/2/runs/d9a742a358814a828bf3ec2ba9f10690.\n",
            "2025/07/01 01:09:41 INFO mlflow.tracking._tracking_service.client: 🧪 View experiment at: http://localhost:5000/#/experiments/2.\n"
          ]
        },
        {
          "output_type": "stream",
          "name": "stdout",
          "text": [
            "linear\n"
          ]
        }
      ],
      "source": [
        "#TEST_CELL\n",
        "run = mlflow_run(data, experiment.experiment_id)\n",
        "print(run.info.run_name);"
      ]
    },
    {
      "cell_type": "markdown",
      "metadata": {
        "id": "6C4rnEhfHx-t"
      },
      "source": [
        "**Salida esperada**\n",
        "\n",
        "Esta prueba permite obtener el nombre de la ejecución:\n",
        "\n",
        "```python\n",
        "❱ print(run.info.run_name)\n",
        "linear\n",
        "```"
      ]
    },
    {
      "cell_type": "code",
      "execution_count": 88,
      "metadata": {
        "id": "j2ouoPNeIHxA",
        "outputId": "ca20e11a-012e-4f65-efbc-df18f5bbe046",
        "colab": {
          "base_uri": "https://localhost:8080/",
          "height": 258
        }
      },
      "outputs": [
        {
          "output_type": "stream",
          "name": "stderr",
          "text": [
            "2025/07/01 01:09:53 WARNING mlflow.models.model: Model logged without a signature and input example. Please set `input_example` parameter when logging the model to auto infer the model signature.\n",
            "2025/07/01 01:09:53 INFO mlflow.tracking._tracking_service.client: 🏃 View run linear at: http://localhost:5000/#/experiments/2/runs/6a4d2c3d8870403d92b4cd79bb6b4949.\n",
            "2025/07/01 01:09:53 INFO mlflow.tracking._tracking_service.client: 🧪 View experiment at: http://localhost:5000/#/experiments/2.\n"
          ]
        },
        {
          "output_type": "error",
          "ename": "FileNotFoundError",
          "evalue": "[Errno 2] No such file or directory: 'file:///content/myrepo/myrepo/myrepo/mlruns/2/6a4d2c3d8870403d92b4cd79bb6b4949/artifacts'",
          "traceback": [
            "\u001b[0;31m---------------------------------------------------------------------------\u001b[0m",
            "\u001b[0;31mFileNotFoundError\u001b[0m                         Traceback (most recent call last)",
            "\u001b[0;32m/tmp/ipython-input-88-299141217.py\u001b[0m in \u001b[0;36m<cell line: 0>\u001b[0;34m()\u001b[0m\n\u001b[1;32m      2\u001b[0m \u001b[0mrun\u001b[0m \u001b[0;34m=\u001b[0m \u001b[0mmlflow_run\u001b[0m\u001b[0;34m(\u001b[0m\u001b[0mdata\u001b[0m\u001b[0;34m,\u001b[0m \u001b[0mexperiment\u001b[0m\u001b[0;34m.\u001b[0m\u001b[0mexperiment_id\u001b[0m\u001b[0;34m)\u001b[0m\u001b[0;34m\u001b[0m\u001b[0;34m\u001b[0m\u001b[0m\n\u001b[1;32m      3\u001b[0m \u001b[0mpath\u001b[0m \u001b[0;34m=\u001b[0m \u001b[0mrun\u001b[0m\u001b[0;34m.\u001b[0m\u001b[0minfo\u001b[0m\u001b[0;34m.\u001b[0m\u001b[0martifact_uri\u001b[0m\u001b[0;34m\u001b[0m\u001b[0;34m\u001b[0m\u001b[0m\n\u001b[0;32m----> 4\u001b[0;31m \u001b[0mprint\u001b[0m\u001b[0;34m(\u001b[0m\u001b[0mos\u001b[0m\u001b[0;34m.\u001b[0m\u001b[0mlistdir\u001b[0m\u001b[0;34m(\u001b[0m\u001b[0mpath\u001b[0m\u001b[0;34m)\u001b[0m\u001b[0;34m)\u001b[0m\u001b[0;34m\u001b[0m\u001b[0;34m\u001b[0m\u001b[0m\n\u001b[0m",
            "\u001b[0;31mFileNotFoundError\u001b[0m: [Errno 2] No such file or directory: 'file:///content/myrepo/myrepo/myrepo/mlruns/2/6a4d2c3d8870403d92b4cd79bb6b4949/artifacts'"
          ]
        }
      ],
      "source": [
        "#TEST_CELL\n",
        "run = mlflow_run(data, experiment.experiment_id)\n",
        "path = run.info.artifact_uri\n",
        "print(os.listdir(path))"
      ]
    },
    {
      "cell_type": "markdown",
      "metadata": {
        "id": "5N5Y-oieIHxB"
      },
      "source": [
        "**Salida esperada**\n",
        "\n",
        "Esta prueba permite obtener el artefacto del modelo entrenado.\n",
        "\n",
        "```python\n",
        "❱ print(os.listdir(path))\n",
        "['model']\n",
        "```"
      ]
    },
    {
      "cell_type": "markdown",
      "metadata": {
        "id": "OYbh75tGHx-t"
      },
      "source": [
        "<details>    \n",
        "<summary>\n",
        "    <font size=\"3\" color=\"darkgreen\"><b>Pista 1</b></font>\n",
        "</summary>\n",
        "\n",
        "\n",
        "* Puede crear una ejecución con la función `mlflow.start_run`."
      ]
    },
    {
      "cell_type": "markdown",
      "metadata": {
        "id": "sEwzHCvqHx-t"
      },
      "source": [
        "<details>    \n",
        "<summary>\n",
        "    <font size=\"3\" color=\"darkgreen\"><b>Pista 2</b></font>\n",
        "</summary>\n",
        "\n",
        "\n",
        "* Recuerde usar la función `end_run` antes de terminar la ejecución."
      ]
    },
    {
      "cell_type": "markdown",
      "metadata": {
        "id": "LOd_HWbtHx-t"
      },
      "source": [
        "#### **Evaluar código**"
      ]
    },
    {
      "cell_type": "code",
      "execution_count": null,
      "metadata": {
        "id": "YAkvr0DxHx-u"
      },
      "outputs": [],
      "source": [
        "grader.run_test(\"Test 3_3\", globals())"
      ]
    },
    {
      "cell_type": "markdown",
      "metadata": {
        "id": "08eh8HTknUDd"
      },
      "source": [
        "# **Evaluación**"
      ]
    },
    {
      "cell_type": "code",
      "execution_count": null,
      "metadata": {
        "id": "pb0DP1bWwRll"
      },
      "outputs": [],
      "source": [
        "grader.submit_task(globals())"
      ]
    },
    {
      "cell_type": "markdown",
      "metadata": {
        "id": "C2k0jvWP0evr"
      },
      "source": [
        "# **Recursos Adicionales**\n",
        "---\n",
        "\n",
        "- _Fuente de los íconos_\n",
        "    - Freepik. Niños dibujados a mano de regreso a la escuela [AI]. https://www.freepik.es/vector-gratis/ninos-dibujados-mano-regreso-escuela_8925986.htm\n",
        "    - Freepik. Set de personajes de estilo kawaii [AI]. https://www.freepik.es/vector-gratis/set-personajes-estilo-kawaii_4280240.htm\n",
        "    - Freepik. Colección de jóvenes [AI]. https://www.freepik.es/vector-gratis/coleccion-jovenes_7035486.htm\n",
        "    - Freepik. Conjunto de banners horizontales planos de hierba verde [JPG]. https://www.freepik.es/vector-gratis/conjunto-banners-horizontales-planos-hierba-verde_2875612.htm\n",
        "    - Freepik. Niños de regreso a la escuela en diseño plano [AI]. https://www.freepik.es/vector-gratis/ninos-regreso-escuela-diseno-plano_9158409.htm"
      ]
    },
    {
      "cell_type": "markdown",
      "metadata": {
        "id": "xwLqFy8Zzet_"
      },
      "source": [
        "# **Créditos**\n",
        "---\n",
        "\n",
        "* **Profesor:** [Jorge E. Camargo, PhD](https://dis.unal.edu.co/~jecamargom/).\n",
        "\n",
        "* **Asistentes docentes:** [Juan Sebastián Lara Ramírez](https://www.linkedin.com/in/juan-sebastian-lara-ramirez-43570a214/).\n",
        "* **Diseño de imágenes:**\n",
        "  - [Rosa Alejandra Superlano Esquibel](https://www.linkedin.com/in/alejandra-superlano-02b74313a/).\n",
        "  - [Mario Andrés Rodríguez Triana](mailto:mrodrigueztr@unal.edu.co).\n",
        "\n",
        "* **Coordinador de virtualización:** [Edder Hernández Forero](https://www.linkedin.com/in/edder-hernandez-forero-28aa8b207/).\n",
        "\n",
        "**Universidad Nacional de Colombia** - *Facultad de Ingeniería*"
      ]
    }
  ],
  "metadata": {
    "colab": {
      "provenance": [],
      "toc_visible": true
    },
    "gpuClass": "standard",
    "kernelspec": {
      "display_name": "Python 3",
      "name": "python3"
    },
    "language_info": {
      "name": "python"
    }
  },
  "nbformat": 4,
  "nbformat_minor": 0
}