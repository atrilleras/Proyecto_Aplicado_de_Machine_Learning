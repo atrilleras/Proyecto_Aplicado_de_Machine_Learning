{
  "nbformat": 4,
  "nbformat_minor": 0,
  "metadata": {
    "colab": {
      "provenance": []
    },
    "kernelspec": {
      "name": "python3",
      "display_name": "Python 3"
    },
    "language_info": {
      "name": "python"
    }
  },
  "cells": [
    {
      "cell_type": "markdown",
      "source": [
        "# **Despliegue de modelos**\n",
        "---\n"
      ],
      "metadata": {
        "id": "PitHont1A5s6"
      }
    },
    {
      "cell_type": "markdown",
      "source": [
        "##**Infraestructura**\n",
        "### **Nombre del modelo**\n",
        "El modelo que se que se despliega a continuación recibe el nombre de **model_cafe**.\n",
        "\n",
        "### **Plataforma de despliegue**\n",
        "El modelo **model_cafe** será desplegado haciendo uso de **fastAPI**.\n",
        "\n",
        "### **Requisitos técnicos**\n",
        "Inicialmente se deberá crear un repositorio de git de la siguiente forma:\n",
        "1. El nombre del repositorio debe ser stocks.\n",
        "2. Debe ubicarse dentro del repositorio e inicializarlo con git.\n",
        "3. Se debe escribir una clase que representará la entrada y la salida de un API para el modelo en fastapi.\n",
        "\n",
        "\n",
        "\n"
      ],
      "metadata": {
        "id": "fWamwrgZA-33"
      }
    },
    {
      "cell_type": "markdown",
      "source": [
        "## **Código de despliegue**"
      ],
      "metadata": {
        "id": "y4JYk8cpD_J9"
      }
    },
    {
      "cell_type": "markdown",
      "source": [
        "A continuación se implementa el código de despliegue."
      ],
      "metadata": {
        "id": "-7zdMXsQEGJn"
      }
    },
    {
      "cell_type": "code",
      "source": [
        "!pip install fastapi"
      ],
      "metadata": {
        "colab": {
          "base_uri": "https://localhost:8080/"
        },
        "id": "E6kWFF9KFTHF",
        "outputId": "69194c5c-6760-406a-dbe9-edfdf6dc3539"
      },
      "execution_count": 1,
      "outputs": [
        {
          "output_type": "stream",
          "name": "stdout",
          "text": [
            "Requirement already satisfied: fastapi in /usr/local/lib/python3.11/dist-packages (0.116.1)\n",
            "Requirement already satisfied: starlette<0.48.0,>=0.40.0 in /usr/local/lib/python3.11/dist-packages (from fastapi) (0.47.2)\n",
            "Requirement already satisfied: pydantic!=1.8,!=1.8.1,!=2.0.0,!=2.0.1,!=2.1.0,<3.0.0,>=1.7.4 in /usr/local/lib/python3.11/dist-packages (from fastapi) (2.11.7)\n",
            "Requirement already satisfied: typing-extensions>=4.8.0 in /usr/local/lib/python3.11/dist-packages (from fastapi) (4.14.1)\n",
            "Requirement already satisfied: annotated-types>=0.6.0 in /usr/local/lib/python3.11/dist-packages (from pydantic!=1.8,!=1.8.1,!=2.0.0,!=2.0.1,!=2.1.0,<3.0.0,>=1.7.4->fastapi) (0.7.0)\n",
            "Requirement already satisfied: pydantic-core==2.33.2 in /usr/local/lib/python3.11/dist-packages (from pydantic!=1.8,!=1.8.1,!=2.0.0,!=2.0.1,!=2.1.0,<3.0.0,>=1.7.4->fastapi) (2.33.2)\n",
            "Requirement already satisfied: typing-inspection>=0.4.0 in /usr/local/lib/python3.11/dist-packages (from pydantic!=1.8,!=1.8.1,!=2.0.0,!=2.0.1,!=2.1.0,<3.0.0,>=1.7.4->fastapi) (0.4.1)\n",
            "Requirement already satisfied: anyio<5,>=3.6.2 in /usr/local/lib/python3.11/dist-packages (from starlette<0.48.0,>=0.40.0->fastapi) (4.9.0)\n",
            "Requirement already satisfied: idna>=2.8 in /usr/local/lib/python3.11/dist-packages (from anyio<5,>=3.6.2->starlette<0.48.0,>=0.40.0->fastapi) (3.10)\n",
            "Requirement already satisfied: sniffio>=1.1 in /usr/local/lib/python3.11/dist-packages (from anyio<5,>=3.6.2->starlette<0.48.0,>=0.40.0->fastapi) (1.3.1)\n"
          ]
        }
      ]
    },
    {
      "cell_type": "markdown",
      "source": [
        "Se realiza la importación de las librerías necesarias"
      ],
      "metadata": {
        "id": "jqIiO_JIFjYi"
      }
    },
    {
      "cell_type": "code",
      "source": [
        "# Librerías de utilidad para manipulación y visualización de datos.\n",
        "import joblib\n",
        "import requests\n",
        "import pandas as pd\n",
        "import os\n",
        "import subprocess\n",
        "from sklearn.svm import SVR\n",
        "from IPython.display import display\n",
        "from pydantic import BaseModel\n",
        "from typing import List\n",
        "import matplotlib.pyplot as plt\n",
        "import matplotlib as mpl\n",
        "import numpy as np\n",
        "import seaborn as sns\n",
        "from sklearn.model_selection import train_test_split\n",
        "from sklearn.neighbors import KNeighborsRegressor\n",
        "from sklearn.metrics import mean_squared_error, r2_score\n",
        "from sklearn.preprocessing import StandardScaler\n",
        "from sklearn.model_selection import cross_val_score\n",
        "\n",
        "\n",
        "# Ignorar warnings.\n",
        "import warnings\n",
        "warnings.filterwarnings('ignore')"
      ],
      "metadata": {
        "id": "1EjOtC2TFpxr"
      },
      "execution_count": 10,
      "outputs": []
    },
    {
      "cell_type": "code",
      "source": [
        "# Versiones de las librerías usadas\n",
        "!python --version\n",
        "import fastapi\n",
        "print('FastAPI', fastapi.__version__)"
      ],
      "metadata": {
        "colab": {
          "base_uri": "https://localhost:8080/"
        },
        "id": "j7E7FraCGQ_j",
        "outputId": "953062f2-5ff8-494e-b068-ae964b31542c"
      },
      "execution_count": 3,
      "outputs": [
        {
          "output_type": "stream",
          "name": "stdout",
          "text": [
            "Python 3.11.13\n",
            "FastAPI 0.116.1\n"
          ]
        }
      ]
    },
    {
      "cell_type": "code",
      "execution_count": 4,
      "metadata": {
        "id": "n06P019bAj3l"
      },
      "outputs": [],
      "source": [
        "!git config --global user.email \"atrillerasmar@unal.edu.co\"\n",
        "!git config --global user.name \"atrillerasmar\"\n",
        "!git config --global init.defaultBranch master"
      ]
    },
    {
      "cell_type": "code",
      "source": [
        "# INGRESE SU CÓDIGO AQUÍ\n",
        "!mkdir 'stocks'"
      ],
      "metadata": {
        "id": "DLDikYDnKmZG"
      },
      "execution_count": 5,
      "outputs": []
    },
    {
      "cell_type": "code",
      "source": [
        "%cd 'stocks'"
      ],
      "metadata": {
        "colab": {
          "base_uri": "https://localhost:8080/"
        },
        "id": "7J4zRM6FKqFn",
        "outputId": "701c5680-bfa3-4038-fe58-07726aa4722d"
      },
      "execution_count": 6,
      "outputs": [
        {
          "output_type": "stream",
          "name": "stdout",
          "text": [
            "/content/stocks\n"
          ]
        }
      ]
    },
    {
      "cell_type": "code",
      "source": [
        "!git init"
      ],
      "metadata": {
        "colab": {
          "base_uri": "https://localhost:8080/"
        },
        "id": "eXkdoxIOKv4Q",
        "outputId": "12ca8492-aa37-448d-8bdf-0ba3bad87710"
      },
      "execution_count": 7,
      "outputs": [
        {
          "output_type": "stream",
          "name": "stdout",
          "text": [
            "Initialized empty Git repository in /content/stocks/.git/\n"
          ]
        }
      ]
    },
    {
      "cell_type": "markdown",
      "source": [
        "## **Cargue de los datos**"
      ],
      "metadata": {
        "id": "FcnRZsKRGdPd"
      }
    },
    {
      "cell_type": "markdown",
      "source": [
        "Los datos utilizados en este proyecto corresponden a variedades de café evaluadas por el Instituto de la Calidad del Café (Coffee Quality Institute, CQI por sus siglas en inglés), y están disponibles públicamente a través del siguiente enlace: https://database.coffeeinstitute.org/."
      ],
      "metadata": {
        "id": "8gUF5Oa6G_PR"
      }
    },
    {
      "cell_type": "code",
      "source": [
        "# Cargar el archivo CSV\n",
        "df = pd.read_csv(\"/content/arabica_data_cleaned.csv\")\n",
        "#df.head(4)\n",
        "# Preprocesamiento\n",
        "df['Acidity'] = pd.to_numeric(df['Acidity'], errors='coerce')\n",
        "df['Flavor'] = pd.to_numeric(df['Flavor'], errors='coerce')\n",
        "df['Aftertaste'] = pd.to_numeric(df['Aftertaste'], errors='coerce')\n",
        "df['Cupper.Points'] = pd.to_numeric(df['Cupper.Points'], errors='coerce')\n",
        "df['Moisture'] = pd.to_numeric(df['Moisture'], errors='coerce')\n",
        "df['Sweetness'] = pd.to_numeric(df['Sweetness'], errors='coerce')\n",
        "df['Clean.Cup'] = pd.to_numeric(df['Clean.Cup'], errors='coerce')\n",
        "df = df.apply(lambda col: col.fillna(col.mean()) if col.dtype in ['float64', 'int64'] else col)\n",
        "columnas = ['Body', 'Balance', 'Uniformity', 'Clean.Cup', 'Sweetness']\n",
        "for col in columnas:\n",
        "    df[col] = pd.to_numeric(df[col], errors='coerce')  # Convierte a numérico si no lo es\n",
        "    media_columna = df.loc[df[col] != 900, col].mean()  # Calcula la media sin incluir los 900\n",
        "    df[col] = df[col].replace(900, media_columna)  # Reemplaza 900 por la media\n",
        "\n",
        "print(df.info())"
      ],
      "metadata": {
        "colab": {
          "base_uri": "https://localhost:8080/"
        },
        "id": "38Xr6QVnHAwR",
        "outputId": "a93e3b90-68bf-4fba-8be5-6c7691e7ebbe"
      },
      "execution_count": 19,
      "outputs": [
        {
          "output_type": "stream",
          "name": "stdout",
          "text": [
            "<class 'pandas.core.frame.DataFrame'>\n",
            "RangeIndex: 1311 entries, 0 to 1310\n",
            "Data columns (total 44 columns):\n",
            " #   Column                 Non-Null Count  Dtype  \n",
            "---  ------                 --------------  -----  \n",
            " 0   Unnamed: 0             1311 non-null   int64  \n",
            " 1   Species                1311 non-null   object \n",
            " 2   Owner                  1304 non-null   object \n",
            " 3   Country.of.Origin      1310 non-null   object \n",
            " 4   Farm.Name              955 non-null    object \n",
            " 5   Lot.Number             270 non-null    object \n",
            " 6   Mill                   1001 non-null   object \n",
            " 7   ICO.Number             1163 non-null   object \n",
            " 8   Company                1102 non-null   object \n",
            " 9   Altitude               1088 non-null   object \n",
            " 10  Region                 1254 non-null   object \n",
            " 11  Producer               1081 non-null   object \n",
            " 12  Number.of.Bags         1311 non-null   int64  \n",
            " 13  Bag.Weight             1311 non-null   object \n",
            " 14  In.Country.Partner     1311 non-null   object \n",
            " 15  Harvest.Year           1264 non-null   object \n",
            " 16  Grading.Date           1311 non-null   object \n",
            " 17  Owner.1                1304 non-null   object \n",
            " 18  Variety                1110 non-null   object \n",
            " 19  Processing.Method      1159 non-null   object \n",
            " 20  Aroma                  1311 non-null   float64\n",
            " 21  Flavor                 1311 non-null   float64\n",
            " 22  Aftertaste             1311 non-null   float64\n",
            " 23  Acidity                1311 non-null   float64\n",
            " 24  Body                   1311 non-null   float64\n",
            " 25  Balance                1311 non-null   float64\n",
            " 26  Uniformity             1311 non-null   float64\n",
            " 27  Clean.Cup              1311 non-null   float64\n",
            " 28  Sweetness              1311 non-null   float64\n",
            " 29  Cupper.Points          1311 non-null   float64\n",
            " 30  Total.Cup.Points       1311 non-null   float64\n",
            " 31  Moisture               1311 non-null   float64\n",
            " 32  Category.One.Defects   1311 non-null   int64  \n",
            " 33  Quakers                1311 non-null   float64\n",
            " 34  Color                  1044 non-null   object \n",
            " 35  Category.Two.Defects   1311 non-null   int64  \n",
            " 36  Expiration             1311 non-null   object \n",
            " 37  Certification.Body     1311 non-null   object \n",
            " 38  Certification.Address  1311 non-null   object \n",
            " 39  Certification.Contact  1311 non-null   object \n",
            " 40  unit_of_measurement    1311 non-null   object \n",
            " 41  altitude_low_meters    1311 non-null   float64\n",
            " 42  altitude_high_meters   1311 non-null   float64\n",
            " 43  altitude_mean_meters   1311 non-null   float64\n",
            "dtypes: float64(16), int64(4), object(24)\n",
            "memory usage: 450.8+ KB\n",
            "None\n"
          ]
        }
      ]
    },
    {
      "cell_type": "markdown",
      "source": [
        "## **Definición del modelo**\n",
        "\n",
        "A continuación se definen las variables de interés"
      ],
      "metadata": {
        "id": "i2LRcYiwJT9R"
      }
    },
    {
      "cell_type": "code",
      "source": [
        "\n",
        "X = df[['Body', 'Balance', 'Uniformity', 'Clean.Cup', 'Sweetness', 'Cupper.Points', 'Moisture', 'Flavor', 'Aftertaste', 'Acidity']]  # ajusta si es necesario\n",
        "y = df[\"Total.Cup.Points\"]\n",
        "\n",
        "scaler = StandardScaler()\n",
        "X_scaled = scaler.fit_transform(X)\n",
        "k_values = range(1, 21)\n",
        "r2_scores = []\n",
        "\n",
        "for k in k_values:\n",
        "    knn = KNeighborsRegressor(n_neighbors=k)\n",
        "    scores = cross_val_score(knn, X_scaled, y, cv=5, scoring='r2')\n",
        "    r2_scores.append(np.mean(scores))\n",
        "\n",
        "plt.figure(figsize=(10, 6))\n",
        "plt.plot(k_values, r2_scores, marker='o', linestyle='--', color='navy')\n",
        "plt.title(\"R² promedio por valor de k (validación cruzada)\")\n",
        "plt.xlabel(\"Número de vecinos (k)\")\n",
        "plt.ylabel(\"R² promedio\")\n",
        "plt.grid(True)\n",
        "plt.xticks(k_values)\n",
        "plt.axhline(0, color='gray', linestyle=':')\n",
        "plt.tight_layout()\n",
        "plt.show()\n",
        "\n",
        "mejor_k = k_values[np.argmax(r2_scores)]\n",
        "mejor_r2 = max(r2_scores)\n",
        "print(f\"Mejor k: {mejor_k} con R² promedio de: {mejor_r2:.4f}\");"
      ],
      "metadata": {
        "colab": {
          "base_uri": "https://localhost:8080/",
          "height": 625
        },
        "id": "BZZgp3yOJmr9",
        "outputId": "ad32b747-ad1b-4e5c-9082-59905ee51027"
      },
      "execution_count": 20,
      "outputs": [
        {
          "output_type": "display_data",
          "data": {
            "text/plain": [
              "<Figure size 1000x600 with 1 Axes>"
            ],
            "image/png": "[encoded data removed]"
          },
          "metadata": {}
        },
        {
          "output_type": "stream",
          "name": "stdout",
          "text": [
            "Mejor k: 9 con R² promedio de: -1.3330\n"
          ]
        }
      ]
    },
    {
      "cell_type": "code",
      "source": [
        "from sklearn.ensemble import RandomForestRegressor\n",
        "\n",
        "# Entrenar modelo\n",
        "rf = RandomForestRegressor(n_estimators=100, random_state=42)\n",
        "rf.fit(X, y)\n",
        "\n",
        "# Obtener importancia\n",
        "importancia_rf = pd.Series(rf.feature_importances_, index=X.columns)\n",
        "importancia_rf = importancia_rf.sort_values(ascending=False)\n",
        "\n",
        "# Mostrar\n",
        "print(\"Importancia según Random Forest:\")\n",
        "print(importancia_rf)"
      ],
      "metadata": {
        "colab": {
          "base_uri": "https://localhost:8080/"
        },
        "id": "Gv0WZvxwKEC-",
        "outputId": "33e489f0-4ce4-4754-9339-1b2096ccf407"
      },
      "execution_count": 21,
      "outputs": [
        {
          "output_type": "stream",
          "name": "stdout",
          "text": [
            "Importancia según Random Forest:\n",
            "Flavor           0.316103\n",
            "Clean.Cup        0.165852\n",
            "Cupper.Points    0.134432\n",
            "Aftertaste       0.108604\n",
            "Sweetness        0.068634\n",
            "Body             0.064849\n",
            "Acidity          0.056179\n",
            "Balance          0.048383\n",
            "Uniformity       0.034427\n",
            "Moisture         0.002538\n",
            "dtype: float64\n"
          ]
        }
      ]
    },
    {
      "cell_type": "code",
      "source": [
        "X = df[['Flavor', 'Clean.Cup', 'Cupper.Points', 'Aftertaste']]\n",
        "y = df[\"Total.Cup.Points\"]\n",
        "\n",
        "# 2. Separar en entrenamiento y prueba\n",
        "X_train, X_test, y_train, y_test = train_test_split(X, y, test_size=0.2, random_state=42)\n",
        "\n",
        "# 3. Crear el modelo Random Forest\n",
        "model_cafe = RandomForestRegressor(n_estimators=100, random_state=42)\n",
        "\n",
        "# 4. Entrenar el modelo\n",
        "model_cafe.fit(X_train, y_train)\n",
        "\n",
        "# 5. Hacer predicciones\n",
        "y_pred = model_cafe.predict(X_test)\n",
        "\n",
        "# 6. Evaluar el modelo\n",
        "print(\"MSE:\", mean_squared_error(y_test, y_pred))\n",
        "print(\"R² score:\", r2_score(y_test, y_pred))\n",
        "\n",
        "# 7. Visualizar predicciones vs. valores reales\n",
        "plt.scatter(y_test, y_pred)\n",
        "plt.xlabel(\"Valores reales\")\n",
        "plt.ylabel(\"Predicciones\")\n",
        "plt.title(\"Random Forest - Regresión\")\n",
        "plt.plot([min(y_test), max(y_test)], [min(y_test), max(y_test)], color=\"red\")\n",
        "plt.grid(True)\n",
        "plt.show()"
      ],
      "metadata": {
        "colab": {
          "base_uri": "https://localhost:8080/",
          "height": 508
        },
        "id": "Vj8FEi0uKKb2",
        "outputId": "22f811c9-dcca-48f7-b6b4-b368a38e0809"
      },
      "execution_count": 28,
      "outputs": [
        {
          "output_type": "stream",
          "name": "stdout",
          "text": [
            "MSE: 0.7298083001427929\n",
            "R² score: 0.8832614669031267\n"
          ]
        },
        {
          "output_type": "display_data",
          "data": {
            "text/plain": [
              "<Figure size 640x480 with 1 Axes>"
            ],
            "image/png": "[encoded data removed]"
          },
          "metadata": {}
        }
      ]
    },
    {
      "cell_type": "code",
      "source": [
        "model_cafe = RandomForestRegressor(random_state=42)\n",
        "\n",
        "# Validación cruzada de 5 pliegues (K=5), usando R² como métrica\n",
        "scores = cross_val_score(model_cafe, X, y, cv=5, scoring='r2')\n",
        "\n",
        "# Mostrar resultados\n",
        "print(\"Scores individuales:\", scores)\n",
        "print(\"R² promedio:\", np.mean(scores))\n",
        "print(\"Desviación estándar:\", np.std(scores))"
      ],
      "metadata": {
        "colab": {
          "base_uri": "https://localhost:8080/"
        },
        "id": "Zs0jvuEEKP3W",
        "outputId": "d5f852c8-f861-4fdd-abf3-9c7f06c793b4"
      },
      "execution_count": 29,
      "outputs": [
        {
          "output_type": "stream",
          "name": "stdout",
          "text": [
            "Scores individuales: [-3.45063225 -5.26695813 -8.6315161  -5.15372033 -0.34258744]\n",
            "R² promedio: -4.569082849194292\n",
            "Desviación estándar: 2.699866291675848\n"
          ]
        }
      ]
    },
    {
      "cell_type": "markdown",
      "source": [
        "## **Estructuración de API**\n",
        "\n",
        "A continuación se escribe una clase que representará la entrada y la salida de un API para el modelo *modelo_cafe* en `fastapi`.\n",
        "\n",
        "Para esto debe implementar las clases `ApiInput` y `ApiOutput` con las siguientes consideranciones:\n",
        "\n",
        "- `ApiInput`: debe tener un atributo llamado `features` que tenga tipo `List[float]`.\n",
        "- `ApiOutput`: debe tener un atributo llamado `forecast` que sea de tipo `float`."
      ],
      "metadata": {
        "id": "ZynAGfA5LHLv"
      }
    },
    {
      "cell_type": "code",
      "source": [
        "# CLASE CALIFICADA ApiInput\n",
        "from pydantic import BaseModel\n",
        "from typing import List\n",
        "# CLASE CALIFICADA ApiInput\n",
        "class ApiInput(BaseModel):\n",
        "    ### ESCRIBA SU CÓDIGO AQUÍ ###\n",
        "    features: List[float]\n",
        "    ### FIN DEL CÓDIGO ###"
      ],
      "metadata": {
        "id": "bZn_bomjLhOC"
      },
      "execution_count": 24,
      "outputs": []
    },
    {
      "cell_type": "code",
      "source": [
        "class ApiOutput(BaseModel):\n",
        "    ### ESCRIBA SU CÓDIGO AQUÍ ###\n",
        "    forecast: float\n",
        "    ### FIN DEL CÓDIGO ###"
      ],
      "metadata": {
        "id": "C6LCRUcmLm0y"
      },
      "execution_count": 25,
      "outputs": []
    },
    {
      "cell_type": "markdown",
      "source": [
        "# Función del API"
      ],
      "metadata": {
        "id": "2RHZoZBjfNNT"
      }
    },
    {
      "cell_type": "markdown",
      "source": [
        "En esta parte se implementa una función *predict* la cual a partir de la clase de entrada, genera la clase de salida por medio del modelo.  \n",
        "Esta función toma como entrada un ApiInput y debe generar un ApiOutput al cargar y utilizar el modelo guardado en la ruta model.cafe.\n",
        "\n",
        "Parámetros\n",
        "\n",
        "data: un objeto de tipo ApiInput.  \n",
        "\n",
        "Retorna\n",
        "\n",
        "prediction: un objeto de tipo ApiOutput."
      ],
      "metadata": {
        "id": "avwqJlzCfh0l"
      }
    },
    {
      "cell_type": "markdown",
      "source": [],
      "metadata": {
        "id": "WAgPlJ8zfQi1"
      }
    },
    {
      "cell_type": "code",
      "source": [
        "# FUNCIÓN CALIFICADA save_model\n",
        "import joblib\n",
        "def save_model(model, path):\n",
        "    ### ESCRIBA SU CÓDIGO AQUÍ ###\n",
        "    joblib.dump(model, path)\n",
        "    ### FIN DEL CÓDIGO ###"
      ],
      "metadata": {
        "id": "qdCb0d0HiMPJ"
      },
      "execution_count": 32,
      "outputs": []
    },
    {
      "cell_type": "code",
      "source": [
        "save_model(model_cafe, \"model_cafe.joblib\")\n",
        "!ls -sh"
      ],
      "metadata": {
        "colab": {
          "base_uri": "https://localhost:8080/"
        },
        "id": "wTvG_KSTiVDW",
        "outputId": "f879d2c2-aeb9-4057-a24b-c5f87c7c3cb8"
      },
      "execution_count": 33,
      "outputs": [
        {
          "output_type": "stream",
          "name": "stdout",
          "text": [
            "total 4.0K\n",
            "4.0K model_cafe.joblib\n"
          ]
        }
      ]
    },
    {
      "cell_type": "code",
      "source": [
        "save_model(model_cafe, \"model_cafe.joblib\")\n",
        "comm = subprocess.check_output(['ls', '-sh'])\n",
        "saved_directory = (comm.decode('utf-8')).split()"
      ],
      "metadata": {
        "id": "qnsJmaf2gmdm"
      },
      "execution_count": 34,
      "outputs": []
    },
    {
      "cell_type": "code",
      "source": [
        "# FUNCIÓN CALIFICADA predict\n",
        "import numpy as np\n",
        "def predict(data: ApiInput) -> ApiOutput:\n",
        "    ### ESCRIBA SU CÓDIGO AQUÍ ###\n",
        "    # Cargar el modelo desde archivo\n",
        "    model = joblib.load(\"model_cafe\")\n",
        "\n",
        "    # Realizar la predicción\n",
        "    input_array = np.array(data.features).reshape(1, -1)\n",
        "    forecast_value = model.predict(input_array)[0]\n",
        "\n",
        "    # Retornar la predicción en formato ApiOutput\n",
        "    prediction = ApiOutput(forecast=float(forecast_value))\n",
        "    return prediction\n",
        "    ### FIN DEL CÓDIGO ###"
      ],
      "metadata": {
        "id": "gxXKM0BmgBHl"
      },
      "execution_count": 35,
      "outputs": []
    },
    {
      "cell_type": "markdown",
      "source": [
        "Con el siguiente código se implmenta la función"
      ],
      "metadata": {
        "id": "T6UiXvAUjVUD"
      }
    },
    {
      "cell_type": "code",
      "source": [
        "inp = ApiInput(features=[2.6, 4.4, 1.78, 6.81, 9.2])\n",
        "pred = predict(inp)\n",
        "display(pred)"
      ],
      "metadata": {
        "id": "LZVb_O6zi38x"
      },
      "execution_count": null,
      "outputs": []
    }
  ]
}